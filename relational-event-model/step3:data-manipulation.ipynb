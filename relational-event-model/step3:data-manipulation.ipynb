{
 "cells": [
  {
   "cell_type": "code",
   "execution_count": 3,
   "id": "c8cfc102-b1b3-426d-9824-c678aabc35c0",
   "metadata": {},
   "outputs": [],
   "source": [
    "import pandas as pd"
   ]
  },
  {
   "cell_type": "markdown",
   "id": "016b1fa4-2607-4aef-b55f-7320ca0d9bb3",
   "metadata": {},
   "source": [
    "### 读取文件"
   ]
  },
  {
   "cell_type": "code",
   "execution_count": 4,
   "id": "87d90809-cd3b-41f6-9786-2785686b0a0d",
   "metadata": {},
   "outputs": [],
   "source": [
    "chunk =  pd.read_csv('./data/python3k_full.csv',chunksize=100000)\n",
    "df = pd.concat(chunk)"
   ]
  },
  {
   "cell_type": "code",
   "execution_count": 5,
   "id": "aedfb7e6-3d7c-49d0-8e68-dd93d526d91a",
   "metadata": {},
   "outputs": [
    {
     "data": {
      "text/html": [
       "<div>\n",
       "<style scoped>\n",
       "    .dataframe tbody tr th:only-of-type {\n",
       "        vertical-align: middle;\n",
       "    }\n",
       "\n",
       "    .dataframe tbody tr th {\n",
       "        vertical-align: top;\n",
       "    }\n",
       "\n",
       "    .dataframe thead th {\n",
       "        text-align: right;\n",
       "    }\n",
       "</style>\n",
       "<table border=\"1\" class=\"dataframe\">\n",
       "  <thead>\n",
       "    <tr style=\"text-align: right;\">\n",
       "      <th></th>\n",
       "      <th>origin</th>\n",
       "      <th>id</th>\n",
       "      <th>author</th>\n",
       "      <th>date</th>\n",
       "    </tr>\n",
       "  </thead>\n",
       "  <tbody>\n",
       "    <tr>\n",
       "      <th>0</th>\n",
       "      <td>https://gitlab.com/mayan-edms/mayan-edms.git</td>\n",
       "      <td>000271b8d8efd7a0049b21aae88d369cf1545d80</td>\n",
       "      <td>bytearray(b'\\xbc\\xda\\xfa\\xf8S\\x02\\xed2\\xb0&amp;\\x0...</td>\n",
       "      <td>2012-06-18 16:51:44</td>\n",
       "    </tr>\n",
       "    <tr>\n",
       "      <th>1</th>\n",
       "      <td>https://github.com/python/cpython</td>\n",
       "      <td>00033dbf403b08c9c0bfaaa1c0a54259ddb61cb9</td>\n",
       "      <td>bytearray(b\"V\\x17\\xb0!?\\xba\\xa3\\x11\\'\\x99\\xe4N...</td>\n",
       "      <td>2007-08-18 22:05:58</td>\n",
       "    </tr>\n",
       "    <tr>\n",
       "      <th>2</th>\n",
       "      <td>https://github.com/numpy/numpy</td>\n",
       "      <td>00046370c4fbde0a91b1e188ed808d6ffbf9843a</td>\n",
       "      <td>bytearray(b'\\x0bFM\\xa0\\xba\\x7f\\x13\\xd6\\x1d\\xc1...</td>\n",
       "      <td>2019-01-28 15:47:53</td>\n",
       "    </tr>\n",
       "    <tr>\n",
       "      <th>3</th>\n",
       "      <td>https://github.com/openstack/openstack</td>\n",
       "      <td>0004b8fcf8634de5be364ac9cac24ac16468facc</td>\n",
       "      <td>bytearray(b\"\\xb1%\\xe7\\xe2\\\\1\\xb5\\xbe\\xb1\\xde\\x...</td>\n",
       "      <td>2017-02-08 02:07:49</td>\n",
       "    </tr>\n",
       "    <tr>\n",
       "      <th>4</th>\n",
       "      <td>https://github.com/FederatedAI/FATE</td>\n",
       "      <td>00065d0d5d5f3e98f9463accb957a319c2602bf5</td>\n",
       "      <td>bytearray(b'/\\xb2\\xe5\\xa6P\\xc6\\xa5\\xa8&gt;\\xce\\xb...</td>\n",
       "      <td>2014-01-13 21:27:43</td>\n",
       "    </tr>\n",
       "  </tbody>\n",
       "</table>\n",
       "</div>"
      ],
      "text/plain": [
       "                                         origin  \\\n",
       "0  https://gitlab.com/mayan-edms/mayan-edms.git   \n",
       "1             https://github.com/python/cpython   \n",
       "2                https://github.com/numpy/numpy   \n",
       "3        https://github.com/openstack/openstack   \n",
       "4           https://github.com/FederatedAI/FATE   \n",
       "\n",
       "                                         id  \\\n",
       "0  000271b8d8efd7a0049b21aae88d369cf1545d80   \n",
       "1  00033dbf403b08c9c0bfaaa1c0a54259ddb61cb9   \n",
       "2  00046370c4fbde0a91b1e188ed808d6ffbf9843a   \n",
       "3  0004b8fcf8634de5be364ac9cac24ac16468facc   \n",
       "4  00065d0d5d5f3e98f9463accb957a319c2602bf5   \n",
       "\n",
       "                                              author                 date  \n",
       "0  bytearray(b'\\xbc\\xda\\xfa\\xf8S\\x02\\xed2\\xb0&\\x0...  2012-06-18 16:51:44  \n",
       "1  bytearray(b\"V\\x17\\xb0!?\\xba\\xa3\\x11\\'\\x99\\xe4N...  2007-08-18 22:05:58  \n",
       "2  bytearray(b'\\x0bFM\\xa0\\xba\\x7f\\x13\\xd6\\x1d\\xc1...  2019-01-28 15:47:53  \n",
       "3  bytearray(b\"\\xb1%\\xe7\\xe2\\\\1\\xb5\\xbe\\xb1\\xde\\x...  2017-02-08 02:07:49  \n",
       "4  bytearray(b'/\\xb2\\xe5\\xa6P\\xc6\\xa5\\xa8>\\xce\\xb...  2014-01-13 21:27:43  "
      ]
     },
     "execution_count": 5,
     "metadata": {},
     "output_type": "execute_result"
    }
   ],
   "source": [
    "df.head()"
   ]
  },
  {
   "cell_type": "markdown",
   "id": "c93ac9b2-76cb-4565-a97e-e14dff3027ae",
   "metadata": {},
   "source": [
    "### 按时间分割"
   ]
  },
  {
   "cell_type": "code",
   "execution_count": 6,
   "id": "39afd520",
   "metadata": {},
   "outputs": [
    {
     "name": "stdout",
     "output_type": "stream",
     "text": [
      "<class 'pandas.core.frame.DataFrame'>\n",
      "RangeIndex: 6040109 entries, 0 to 6040108\n",
      "Data columns (total 4 columns):\n",
      " #   Column  Dtype \n",
      "---  ------  ----- \n",
      " 0   origin  object\n",
      " 1   id      object\n",
      " 2   author  object\n",
      " 3   date    object\n",
      "dtypes: object(4)\n",
      "memory usage: 184.3+ MB\n"
     ]
    }
   ],
   "source": [
    "df.info()"
   ]
  },
  {
   "cell_type": "code",
   "execution_count": 7,
   "id": "d31ec93d",
   "metadata": {},
   "outputs": [
    {
     "data": {
      "text/html": [
       "<div>\n",
       "<style scoped>\n",
       "    .dataframe tbody tr th:only-of-type {\n",
       "        vertical-align: middle;\n",
       "    }\n",
       "\n",
       "    .dataframe tbody tr th {\n",
       "        vertical-align: top;\n",
       "    }\n",
       "\n",
       "    .dataframe thead th {\n",
       "        text-align: right;\n",
       "    }\n",
       "</style>\n",
       "<table border=\"1\" class=\"dataframe\">\n",
       "  <thead>\n",
       "    <tr style=\"text-align: right;\">\n",
       "      <th></th>\n",
       "      <th>origin</th>\n",
       "      <th>id</th>\n",
       "      <th>author</th>\n",
       "      <th>date</th>\n",
       "    </tr>\n",
       "  </thead>\n",
       "  <tbody>\n",
       "    <tr>\n",
       "      <th>0</th>\n",
       "      <td>https://gitlab.com/mayan-edms/mayan-edms.git</td>\n",
       "      <td>000271b8d8efd7a0049b21aae88d369cf1545d80</td>\n",
       "      <td>bytearray(b'\\xbc\\xda\\xfa\\xf8S\\x02\\xed2\\xb0&amp;\\x0...</td>\n",
       "      <td>2012-06-18 16:51:44</td>\n",
       "    </tr>\n",
       "    <tr>\n",
       "      <th>1</th>\n",
       "      <td>https://github.com/python/cpython</td>\n",
       "      <td>00033dbf403b08c9c0bfaaa1c0a54259ddb61cb9</td>\n",
       "      <td>bytearray(b\"V\\x17\\xb0!?\\xba\\xa3\\x11\\'\\x99\\xe4N...</td>\n",
       "      <td>2007-08-18 22:05:58</td>\n",
       "    </tr>\n",
       "    <tr>\n",
       "      <th>2</th>\n",
       "      <td>https://github.com/numpy/numpy</td>\n",
       "      <td>00046370c4fbde0a91b1e188ed808d6ffbf9843a</td>\n",
       "      <td>bytearray(b'\\x0bFM\\xa0\\xba\\x7f\\x13\\xd6\\x1d\\xc1...</td>\n",
       "      <td>2019-01-28 15:47:53</td>\n",
       "    </tr>\n",
       "    <tr>\n",
       "      <th>3</th>\n",
       "      <td>https://github.com/openstack/openstack</td>\n",
       "      <td>0004b8fcf8634de5be364ac9cac24ac16468facc</td>\n",
       "      <td>bytearray(b\"\\xb1%\\xe7\\xe2\\\\1\\xb5\\xbe\\xb1\\xde\\x...</td>\n",
       "      <td>2017-02-08 02:07:49</td>\n",
       "    </tr>\n",
       "    <tr>\n",
       "      <th>4</th>\n",
       "      <td>https://github.com/FederatedAI/FATE</td>\n",
       "      <td>00065d0d5d5f3e98f9463accb957a319c2602bf5</td>\n",
       "      <td>bytearray(b'/\\xb2\\xe5\\xa6P\\xc6\\xa5\\xa8&gt;\\xce\\xb...</td>\n",
       "      <td>2014-01-13 21:27:43</td>\n",
       "    </tr>\n",
       "  </tbody>\n",
       "</table>\n",
       "</div>"
      ],
      "text/plain": [
       "                                         origin  \\\n",
       "0  https://gitlab.com/mayan-edms/mayan-edms.git   \n",
       "1             https://github.com/python/cpython   \n",
       "2                https://github.com/numpy/numpy   \n",
       "3        https://github.com/openstack/openstack   \n",
       "4           https://github.com/FederatedAI/FATE   \n",
       "\n",
       "                                         id  \\\n",
       "0  000271b8d8efd7a0049b21aae88d369cf1545d80   \n",
       "1  00033dbf403b08c9c0bfaaa1c0a54259ddb61cb9   \n",
       "2  00046370c4fbde0a91b1e188ed808d6ffbf9843a   \n",
       "3  0004b8fcf8634de5be364ac9cac24ac16468facc   \n",
       "4  00065d0d5d5f3e98f9463accb957a319c2602bf5   \n",
       "\n",
       "                                              author                date  \n",
       "0  bytearray(b'\\xbc\\xda\\xfa\\xf8S\\x02\\xed2\\xb0&\\x0... 2012-06-18 16:51:44  \n",
       "1  bytearray(b\"V\\x17\\xb0!?\\xba\\xa3\\x11\\'\\x99\\xe4N... 2007-08-18 22:05:58  \n",
       "2  bytearray(b'\\x0bFM\\xa0\\xba\\x7f\\x13\\xd6\\x1d\\xc1... 2019-01-28 15:47:53  \n",
       "3  bytearray(b\"\\xb1%\\xe7\\xe2\\\\1\\xb5\\xbe\\xb1\\xde\\x... 2017-02-08 02:07:49  \n",
       "4  bytearray(b'/\\xb2\\xe5\\xa6P\\xc6\\xa5\\xa8>\\xce\\xb... 2014-01-13 21:27:43  "
      ]
     },
     "execution_count": 7,
     "metadata": {},
     "output_type": "execute_result"
    }
   ],
   "source": [
    "# Convert the 'timestamp' column to a datetime object if it's not already\n",
    "df['date'] = pd.to_datetime(df['date'])#, format='%Y-%m-%dT%H:%M:%SZ', errors='coerce')\n",
    "df.head()"
   ]
  },
  {
   "cell_type": "code",
   "execution_count": 8,
   "id": "5f0b1197",
   "metadata": {},
   "outputs": [],
   "source": [
    "df['author_id'] =  pd.factorize(df['author'])[0]"
   ]
  },
  {
   "cell_type": "code",
   "execution_count": 9,
   "id": "e6a288a2",
   "metadata": {},
   "outputs": [
    {
     "name": "stdout",
     "output_type": "stream",
     "text": [
      "<class 'pandas.core.frame.DataFrame'>\n",
      "RangeIndex: 6040109 entries, 0 to 6040108\n",
      "Data columns (total 5 columns):\n",
      " #   Column     Dtype         \n",
      "---  ------     -----         \n",
      " 0   origin     object        \n",
      " 1   id         object        \n",
      " 2   author     object        \n",
      " 3   date       datetime64[ns]\n",
      " 4   author_id  int64         \n",
      "dtypes: datetime64[ns](1), int64(1), object(3)\n",
      "memory usage: 230.4+ MB\n"
     ]
    }
   ],
   "source": [
    "df.info()"
   ]
  },
  {
   "cell_type": "code",
   "execution_count": 10,
   "id": "d746e87c",
   "metadata": {},
   "outputs": [
    {
     "name": "stdout",
     "output_type": "stream",
     "text": [
      "<class 'pandas._libs.tslibs.timestamps.Timestamp'>\n"
     ]
    }
   ],
   "source": [
    "# Define the threshold datetime \n",
    "\n",
    "# threshold_datetime = pd.to_datetime(\"2020-01-01 00:00:00+00:00\", utc=True)\n",
    "# Define the threshold datetime as a Timestamp object\n",
    "# threshold_datetime = pd.Timestamp(\"2020-01-01 00:00:00\", tz='UTC')\n",
    "threshold_datetime = pd.to_datetime(\"2020-01-01 00:00:00\")#, utc=True)\n",
    "\n",
    "\n",
    "print(type(threshold_datetime))"
   ]
  },
  {
   "cell_type": "code",
   "execution_count": 11,
   "id": "9bd9b9c5",
   "metadata": {},
   "outputs": [],
   "source": [
    "# Split the DataFrame into two based on the threshold\n",
    "df_before_threshold = df[df['date'] < threshold_datetime]\n",
    "df_after_threshold = df[df['date'] >= threshold_datetime]"
   ]
  },
  {
   "cell_type": "code",
   "execution_count": 12,
   "id": "ea915e82",
   "metadata": {},
   "outputs": [
    {
     "data": {
      "text/html": [
       "<div>\n",
       "<style scoped>\n",
       "    .dataframe tbody tr th:only-of-type {\n",
       "        vertical-align: middle;\n",
       "    }\n",
       "\n",
       "    .dataframe tbody tr th {\n",
       "        vertical-align: top;\n",
       "    }\n",
       "\n",
       "    .dataframe thead th {\n",
       "        text-align: right;\n",
       "    }\n",
       "</style>\n",
       "<table border=\"1\" class=\"dataframe\">\n",
       "  <thead>\n",
       "    <tr style=\"text-align: right;\">\n",
       "      <th></th>\n",
       "      <th>origin</th>\n",
       "      <th>id</th>\n",
       "      <th>author</th>\n",
       "      <th>date</th>\n",
       "      <th>author_id</th>\n",
       "    </tr>\n",
       "  </thead>\n",
       "  <tbody>\n",
       "    <tr>\n",
       "      <th>0</th>\n",
       "      <td>https://gitlab.com/mayan-edms/mayan-edms.git</td>\n",
       "      <td>000271b8d8efd7a0049b21aae88d369cf1545d80</td>\n",
       "      <td>bytearray(b'\\xbc\\xda\\xfa\\xf8S\\x02\\xed2\\xb0&amp;\\x0...</td>\n",
       "      <td>2012-06-18 16:51:44</td>\n",
       "      <td>0</td>\n",
       "    </tr>\n",
       "    <tr>\n",
       "      <th>1</th>\n",
       "      <td>https://github.com/python/cpython</td>\n",
       "      <td>00033dbf403b08c9c0bfaaa1c0a54259ddb61cb9</td>\n",
       "      <td>bytearray(b\"V\\x17\\xb0!?\\xba\\xa3\\x11\\'\\x99\\xe4N...</td>\n",
       "      <td>2007-08-18 22:05:58</td>\n",
       "      <td>1</td>\n",
       "    </tr>\n",
       "    <tr>\n",
       "      <th>2</th>\n",
       "      <td>https://github.com/numpy/numpy</td>\n",
       "      <td>00046370c4fbde0a91b1e188ed808d6ffbf9843a</td>\n",
       "      <td>bytearray(b'\\x0bFM\\xa0\\xba\\x7f\\x13\\xd6\\x1d\\xc1...</td>\n",
       "      <td>2019-01-28 15:47:53</td>\n",
       "      <td>2</td>\n",
       "    </tr>\n",
       "    <tr>\n",
       "      <th>3</th>\n",
       "      <td>https://github.com/openstack/openstack</td>\n",
       "      <td>0004b8fcf8634de5be364ac9cac24ac16468facc</td>\n",
       "      <td>bytearray(b\"\\xb1%\\xe7\\xe2\\\\1\\xb5\\xbe\\xb1\\xde\\x...</td>\n",
       "      <td>2017-02-08 02:07:49</td>\n",
       "      <td>3</td>\n",
       "    </tr>\n",
       "    <tr>\n",
       "      <th>4</th>\n",
       "      <td>https://github.com/FederatedAI/FATE</td>\n",
       "      <td>00065d0d5d5f3e98f9463accb957a319c2602bf5</td>\n",
       "      <td>bytearray(b'/\\xb2\\xe5\\xa6P\\xc6\\xa5\\xa8&gt;\\xce\\xb...</td>\n",
       "      <td>2014-01-13 21:27:43</td>\n",
       "      <td>4</td>\n",
       "    </tr>\n",
       "  </tbody>\n",
       "</table>\n",
       "</div>"
      ],
      "text/plain": [
       "                                         origin  \\\n",
       "0  https://gitlab.com/mayan-edms/mayan-edms.git   \n",
       "1             https://github.com/python/cpython   \n",
       "2                https://github.com/numpy/numpy   \n",
       "3        https://github.com/openstack/openstack   \n",
       "4           https://github.com/FederatedAI/FATE   \n",
       "\n",
       "                                         id  \\\n",
       "0  000271b8d8efd7a0049b21aae88d369cf1545d80   \n",
       "1  00033dbf403b08c9c0bfaaa1c0a54259ddb61cb9   \n",
       "2  00046370c4fbde0a91b1e188ed808d6ffbf9843a   \n",
       "3  0004b8fcf8634de5be364ac9cac24ac16468facc   \n",
       "4  00065d0d5d5f3e98f9463accb957a319c2602bf5   \n",
       "\n",
       "                                              author                date  \\\n",
       "0  bytearray(b'\\xbc\\xda\\xfa\\xf8S\\x02\\xed2\\xb0&\\x0... 2012-06-18 16:51:44   \n",
       "1  bytearray(b\"V\\x17\\xb0!?\\xba\\xa3\\x11\\'\\x99\\xe4N... 2007-08-18 22:05:58   \n",
       "2  bytearray(b'\\x0bFM\\xa0\\xba\\x7f\\x13\\xd6\\x1d\\xc1... 2019-01-28 15:47:53   \n",
       "3  bytearray(b\"\\xb1%\\xe7\\xe2\\\\1\\xb5\\xbe\\xb1\\xde\\x... 2017-02-08 02:07:49   \n",
       "4  bytearray(b'/\\xb2\\xe5\\xa6P\\xc6\\xa5\\xa8>\\xce\\xb... 2014-01-13 21:27:43   \n",
       "\n",
       "   author_id  \n",
       "0          0  \n",
       "1          1  \n",
       "2          2  \n",
       "3          3  \n",
       "4          4  "
      ]
     },
     "execution_count": 12,
     "metadata": {},
     "output_type": "execute_result"
    }
   ],
   "source": [
    "df_before_threshold.head()"
   ]
  },
  {
   "cell_type": "code",
   "execution_count": 13,
   "id": "1a1efa0f",
   "metadata": {},
   "outputs": [
    {
     "name": "stderr",
     "output_type": "stream",
     "text": [
      "/tmp/ipykernel_3871094/354067208.py:1: SettingWithCopyWarning: \n",
      "A value is trying to be set on a copy of a slice from a DataFrame.\n",
      "Try using .loc[row_indexer,col_indexer] = value instead\n",
      "\n",
      "See the caveats in the documentation: https://pandas.pydata.org/pandas-docs/stable/user_guide/indexing.html#returning-a-view-versus-a-copy\n",
      "  df_before_threshold['date'] = df_before_threshold['date'].dt.strftime('%Y-%m-%dT%H:%M:%S' + 'Z')\n"
     ]
    },
    {
     "data": {
      "text/html": [
       "<div>\n",
       "<style scoped>\n",
       "    .dataframe tbody tr th:only-of-type {\n",
       "        vertical-align: middle;\n",
       "    }\n",
       "\n",
       "    .dataframe tbody tr th {\n",
       "        vertical-align: top;\n",
       "    }\n",
       "\n",
       "    .dataframe thead th {\n",
       "        text-align: right;\n",
       "    }\n",
       "</style>\n",
       "<table border=\"1\" class=\"dataframe\">\n",
       "  <thead>\n",
       "    <tr style=\"text-align: right;\">\n",
       "      <th></th>\n",
       "      <th>origin</th>\n",
       "      <th>id</th>\n",
       "      <th>author</th>\n",
       "      <th>date</th>\n",
       "      <th>author_id</th>\n",
       "    </tr>\n",
       "  </thead>\n",
       "  <tbody>\n",
       "    <tr>\n",
       "      <th>0</th>\n",
       "      <td>https://gitlab.com/mayan-edms/mayan-edms.git</td>\n",
       "      <td>000271b8d8efd7a0049b21aae88d369cf1545d80</td>\n",
       "      <td>bytearray(b'\\xbc\\xda\\xfa\\xf8S\\x02\\xed2\\xb0&amp;\\x0...</td>\n",
       "      <td>2012-06-18T16:51:44Z</td>\n",
       "      <td>0</td>\n",
       "    </tr>\n",
       "    <tr>\n",
       "      <th>1</th>\n",
       "      <td>https://github.com/python/cpython</td>\n",
       "      <td>00033dbf403b08c9c0bfaaa1c0a54259ddb61cb9</td>\n",
       "      <td>bytearray(b\"V\\x17\\xb0!?\\xba\\xa3\\x11\\'\\x99\\xe4N...</td>\n",
       "      <td>2007-08-18T22:05:58Z</td>\n",
       "      <td>1</td>\n",
       "    </tr>\n",
       "    <tr>\n",
       "      <th>2</th>\n",
       "      <td>https://github.com/numpy/numpy</td>\n",
       "      <td>00046370c4fbde0a91b1e188ed808d6ffbf9843a</td>\n",
       "      <td>bytearray(b'\\x0bFM\\xa0\\xba\\x7f\\x13\\xd6\\x1d\\xc1...</td>\n",
       "      <td>2019-01-28T15:47:53Z</td>\n",
       "      <td>2</td>\n",
       "    </tr>\n",
       "    <tr>\n",
       "      <th>3</th>\n",
       "      <td>https://github.com/openstack/openstack</td>\n",
       "      <td>0004b8fcf8634de5be364ac9cac24ac16468facc</td>\n",
       "      <td>bytearray(b\"\\xb1%\\xe7\\xe2\\\\1\\xb5\\xbe\\xb1\\xde\\x...</td>\n",
       "      <td>2017-02-08T02:07:49Z</td>\n",
       "      <td>3</td>\n",
       "    </tr>\n",
       "    <tr>\n",
       "      <th>4</th>\n",
       "      <td>https://github.com/FederatedAI/FATE</td>\n",
       "      <td>00065d0d5d5f3e98f9463accb957a319c2602bf5</td>\n",
       "      <td>bytearray(b'/\\xb2\\xe5\\xa6P\\xc6\\xa5\\xa8&gt;\\xce\\xb...</td>\n",
       "      <td>2014-01-13T21:27:43Z</td>\n",
       "      <td>4</td>\n",
       "    </tr>\n",
       "  </tbody>\n",
       "</table>\n",
       "</div>"
      ],
      "text/plain": [
       "                                         origin  \\\n",
       "0  https://gitlab.com/mayan-edms/mayan-edms.git   \n",
       "1             https://github.com/python/cpython   \n",
       "2                https://github.com/numpy/numpy   \n",
       "3        https://github.com/openstack/openstack   \n",
       "4           https://github.com/FederatedAI/FATE   \n",
       "\n",
       "                                         id  \\\n",
       "0  000271b8d8efd7a0049b21aae88d369cf1545d80   \n",
       "1  00033dbf403b08c9c0bfaaa1c0a54259ddb61cb9   \n",
       "2  00046370c4fbde0a91b1e188ed808d6ffbf9843a   \n",
       "3  0004b8fcf8634de5be364ac9cac24ac16468facc   \n",
       "4  00065d0d5d5f3e98f9463accb957a319c2602bf5   \n",
       "\n",
       "                                              author                  date  \\\n",
       "0  bytearray(b'\\xbc\\xda\\xfa\\xf8S\\x02\\xed2\\xb0&\\x0...  2012-06-18T16:51:44Z   \n",
       "1  bytearray(b\"V\\x17\\xb0!?\\xba\\xa3\\x11\\'\\x99\\xe4N...  2007-08-18T22:05:58Z   \n",
       "2  bytearray(b'\\x0bFM\\xa0\\xba\\x7f\\x13\\xd6\\x1d\\xc1...  2019-01-28T15:47:53Z   \n",
       "3  bytearray(b\"\\xb1%\\xe7\\xe2\\\\1\\xb5\\xbe\\xb1\\xde\\x...  2017-02-08T02:07:49Z   \n",
       "4  bytearray(b'/\\xb2\\xe5\\xa6P\\xc6\\xa5\\xa8>\\xce\\xb...  2014-01-13T21:27:43Z   \n",
       "\n",
       "   author_id  \n",
       "0          0  \n",
       "1          1  \n",
       "2          2  \n",
       "3          3  \n",
       "4          4  "
      ]
     },
     "execution_count": 13,
     "metadata": {},
     "output_type": "execute_result"
    }
   ],
   "source": [
    "df_before_threshold['date'] = df_before_threshold['date'].dt.strftime('%Y-%m-%dT%H:%M:%S' + 'Z')\n",
    "df_before_threshold.head()"
   ]
  },
  {
   "cell_type": "code",
   "execution_count": 14,
   "id": "004fffe5",
   "metadata": {},
   "outputs": [
    {
     "name": "stderr",
     "output_type": "stream",
     "text": [
      "/tmp/ipykernel_3871094/2121460807.py:1: SettingWithCopyWarning: \n",
      "A value is trying to be set on a copy of a slice from a DataFrame.\n",
      "Try using .loc[row_indexer,col_indexer] = value instead\n",
      "\n",
      "See the caveats in the documentation: https://pandas.pydata.org/pandas-docs/stable/user_guide/indexing.html#returning-a-view-versus-a-copy\n",
      "  df_after_threshold['date'] = df_after_threshold['date'].dt.strftime('%Y-%m-%dT%H:%M:%S' + 'Z')\n"
     ]
    },
    {
     "data": {
      "text/html": [
       "<div>\n",
       "<style scoped>\n",
       "    .dataframe tbody tr th:only-of-type {\n",
       "        vertical-align: middle;\n",
       "    }\n",
       "\n",
       "    .dataframe tbody tr th {\n",
       "        vertical-align: top;\n",
       "    }\n",
       "\n",
       "    .dataframe thead th {\n",
       "        text-align: right;\n",
       "    }\n",
       "</style>\n",
       "<table border=\"1\" class=\"dataframe\">\n",
       "  <thead>\n",
       "    <tr style=\"text-align: right;\">\n",
       "      <th></th>\n",
       "      <th>origin</th>\n",
       "      <th>id</th>\n",
       "      <th>author</th>\n",
       "      <th>date</th>\n",
       "      <th>author_id</th>\n",
       "    </tr>\n",
       "  </thead>\n",
       "  <tbody>\n",
       "    <tr>\n",
       "      <th>16</th>\n",
       "      <td>https://github.com/openstack/openstack</td>\n",
       "      <td>0012407ebdd7898dbeb7dd346835948a39a70aa1</td>\n",
       "      <td>bytearray(b\"\\x1f\\'[\\xd62\\xa9\\xd9\\xaa\\xd2\\x0c\\x...</td>\n",
       "      <td>2020-09-19T14:05:00Z</td>\n",
       "      <td>15</td>\n",
       "    </tr>\n",
       "    <tr>\n",
       "      <th>47</th>\n",
       "      <td>https://github.com/cirosantilli/linux-kernel-m...</td>\n",
       "      <td>0029d097956e700b6b498ce39d6d745adc35b39c</td>\n",
       "      <td>bytearray(b'NF\\xad\\xe4\\xb8\\x87\\x9e\\x1cI\\xdeL\\x...</td>\n",
       "      <td>2020-05-28T09:33:13Z</td>\n",
       "      <td>45</td>\n",
       "    </tr>\n",
       "    <tr>\n",
       "      <th>56</th>\n",
       "      <td>https://github.com/pytorch/ignite</td>\n",
       "      <td>00316751fb8ebad34c8a60a58b49cc17c0433744</td>\n",
       "      <td>bytearray(b\"\\x0f3\\x85\\xf7}/0\\xbc\\x16\\xf3\\xbb\\x...</td>\n",
       "      <td>2020-10-06T15:25:42Z</td>\n",
       "      <td>51</td>\n",
       "    </tr>\n",
       "    <tr>\n",
       "      <th>114</th>\n",
       "      <td>https://github.com/pwr-Solaar/Solaar</td>\n",
       "      <td>007163a563244e41fb680a57762a7678443b8f86</td>\n",
       "      <td>bytearray(b'\\x93e\\x87vp\\x060#`@s\\xcf\\xdfI&gt;hp\\x...</td>\n",
       "      <td>2020-02-17T03:07:10Z</td>\n",
       "      <td>99</td>\n",
       "    </tr>\n",
       "    <tr>\n",
       "      <th>166</th>\n",
       "      <td>https://github.com/cirosantilli/linux-kernel-m...</td>\n",
       "      <td>00adbe714b28043e8051dfd6d709541c52f5aa45</td>\n",
       "      <td>bytearray(b'\\xdc\\x1f\\x1c\\xc7\\xb7z\\xe8\\x1b\\xa0,...</td>\n",
       "      <td>2020-02-05T10:34:33Z</td>\n",
       "      <td>140</td>\n",
       "    </tr>\n",
       "  </tbody>\n",
       "</table>\n",
       "</div>"
      ],
      "text/plain": [
       "                                                origin  \\\n",
       "16              https://github.com/openstack/openstack   \n",
       "47   https://github.com/cirosantilli/linux-kernel-m...   \n",
       "56                   https://github.com/pytorch/ignite   \n",
       "114               https://github.com/pwr-Solaar/Solaar   \n",
       "166  https://github.com/cirosantilli/linux-kernel-m...   \n",
       "\n",
       "                                           id  \\\n",
       "16   0012407ebdd7898dbeb7dd346835948a39a70aa1   \n",
       "47   0029d097956e700b6b498ce39d6d745adc35b39c   \n",
       "56   00316751fb8ebad34c8a60a58b49cc17c0433744   \n",
       "114  007163a563244e41fb680a57762a7678443b8f86   \n",
       "166  00adbe714b28043e8051dfd6d709541c52f5aa45   \n",
       "\n",
       "                                                author                  date  \\\n",
       "16   bytearray(b\"\\x1f\\'[\\xd62\\xa9\\xd9\\xaa\\xd2\\x0c\\x...  2020-09-19T14:05:00Z   \n",
       "47   bytearray(b'NF\\xad\\xe4\\xb8\\x87\\x9e\\x1cI\\xdeL\\x...  2020-05-28T09:33:13Z   \n",
       "56   bytearray(b\"\\x0f3\\x85\\xf7}/0\\xbc\\x16\\xf3\\xbb\\x...  2020-10-06T15:25:42Z   \n",
       "114  bytearray(b'\\x93e\\x87vp\\x060#`@s\\xcf\\xdfI>hp\\x...  2020-02-17T03:07:10Z   \n",
       "166  bytearray(b'\\xdc\\x1f\\x1c\\xc7\\xb7z\\xe8\\x1b\\xa0,...  2020-02-05T10:34:33Z   \n",
       "\n",
       "     author_id  \n",
       "16          15  \n",
       "47          45  \n",
       "56          51  \n",
       "114         99  \n",
       "166        140  "
      ]
     },
     "execution_count": 14,
     "metadata": {},
     "output_type": "execute_result"
    }
   ],
   "source": [
    "df_after_threshold['date'] = df_after_threshold['date'].dt.strftime('%Y-%m-%dT%H:%M:%S' + 'Z')\n",
    "df_after_threshold.head()"
   ]
  },
  {
   "cell_type": "code",
   "execution_count": 15,
   "id": "c998f5ee",
   "metadata": {},
   "outputs": [
    {
     "data": {
      "text/html": [
       "<div>\n",
       "<style scoped>\n",
       "    .dataframe tbody tr th:only-of-type {\n",
       "        vertical-align: middle;\n",
       "    }\n",
       "\n",
       "    .dataframe tbody tr th {\n",
       "        vertical-align: top;\n",
       "    }\n",
       "\n",
       "    .dataframe thead th {\n",
       "        text-align: right;\n",
       "    }\n",
       "</style>\n",
       "<table border=\"1\" class=\"dataframe\">\n",
       "  <thead>\n",
       "    <tr style=\"text-align: right;\">\n",
       "      <th></th>\n",
       "      <th>origin</th>\n",
       "      <th>id</th>\n",
       "      <th>author</th>\n",
       "      <th>date</th>\n",
       "      <th>author_id</th>\n",
       "    </tr>\n",
       "  </thead>\n",
       "  <tbody>\n",
       "    <tr>\n",
       "      <th>0</th>\n",
       "      <td>https://gitlab.com/mayan-edms/mayan-edms.git</td>\n",
       "      <td>000271b8d8efd7a0049b21aae88d369cf1545d80</td>\n",
       "      <td>bytearray(b'\\xbc\\xda\\xfa\\xf8S\\x02\\xed2\\xb0&amp;\\x0...</td>\n",
       "      <td>2012-06-18T16:51:44Z</td>\n",
       "      <td>0</td>\n",
       "    </tr>\n",
       "    <tr>\n",
       "      <th>1</th>\n",
       "      <td>https://github.com/python/cpython</td>\n",
       "      <td>00033dbf403b08c9c0bfaaa1c0a54259ddb61cb9</td>\n",
       "      <td>bytearray(b\"V\\x17\\xb0!?\\xba\\xa3\\x11\\'\\x99\\xe4N...</td>\n",
       "      <td>2007-08-18T22:05:58Z</td>\n",
       "      <td>1</td>\n",
       "    </tr>\n",
       "    <tr>\n",
       "      <th>2</th>\n",
       "      <td>https://github.com/numpy/numpy</td>\n",
       "      <td>00046370c4fbde0a91b1e188ed808d6ffbf9843a</td>\n",
       "      <td>bytearray(b'\\x0bFM\\xa0\\xba\\x7f\\x13\\xd6\\x1d\\xc1...</td>\n",
       "      <td>2019-01-28T15:47:53Z</td>\n",
       "      <td>2</td>\n",
       "    </tr>\n",
       "    <tr>\n",
       "      <th>3</th>\n",
       "      <td>https://github.com/openstack/openstack</td>\n",
       "      <td>0004b8fcf8634de5be364ac9cac24ac16468facc</td>\n",
       "      <td>bytearray(b\"\\xb1%\\xe7\\xe2\\\\1\\xb5\\xbe\\xb1\\xde\\x...</td>\n",
       "      <td>2017-02-08T02:07:49Z</td>\n",
       "      <td>3</td>\n",
       "    </tr>\n",
       "    <tr>\n",
       "      <th>4</th>\n",
       "      <td>https://github.com/FederatedAI/FATE</td>\n",
       "      <td>00065d0d5d5f3e98f9463accb957a319c2602bf5</td>\n",
       "      <td>bytearray(b'/\\xb2\\xe5\\xa6P\\xc6\\xa5\\xa8&gt;\\xce\\xb...</td>\n",
       "      <td>2014-01-13T21:27:43Z</td>\n",
       "      <td>4</td>\n",
       "    </tr>\n",
       "  </tbody>\n",
       "</table>\n",
       "</div>"
      ],
      "text/plain": [
       "                                         origin  \\\n",
       "0  https://gitlab.com/mayan-edms/mayan-edms.git   \n",
       "1             https://github.com/python/cpython   \n",
       "2                https://github.com/numpy/numpy   \n",
       "3        https://github.com/openstack/openstack   \n",
       "4           https://github.com/FederatedAI/FATE   \n",
       "\n",
       "                                         id  \\\n",
       "0  000271b8d8efd7a0049b21aae88d369cf1545d80   \n",
       "1  00033dbf403b08c9c0bfaaa1c0a54259ddb61cb9   \n",
       "2  00046370c4fbde0a91b1e188ed808d6ffbf9843a   \n",
       "3  0004b8fcf8634de5be364ac9cac24ac16468facc   \n",
       "4  00065d0d5d5f3e98f9463accb957a319c2602bf5   \n",
       "\n",
       "                                              author                  date  \\\n",
       "0  bytearray(b'\\xbc\\xda\\xfa\\xf8S\\x02\\xed2\\xb0&\\x0...  2012-06-18T16:51:44Z   \n",
       "1  bytearray(b\"V\\x17\\xb0!?\\xba\\xa3\\x11\\'\\x99\\xe4N...  2007-08-18T22:05:58Z   \n",
       "2  bytearray(b'\\x0bFM\\xa0\\xba\\x7f\\x13\\xd6\\x1d\\xc1...  2019-01-28T15:47:53Z   \n",
       "3  bytearray(b\"\\xb1%\\xe7\\xe2\\\\1\\xb5\\xbe\\xb1\\xde\\x...  2017-02-08T02:07:49Z   \n",
       "4  bytearray(b'/\\xb2\\xe5\\xa6P\\xc6\\xa5\\xa8>\\xce\\xb...  2014-01-13T21:27:43Z   \n",
       "\n",
       "   author_id  \n",
       "0          0  \n",
       "1          1  \n",
       "2          2  \n",
       "3          3  \n",
       "4          4  "
      ]
     },
     "execution_count": 15,
     "metadata": {},
     "output_type": "execute_result"
    }
   ],
   "source": [
    "df['date'] = df['date'].dt.strftime('%Y-%m-%dT%H:%M:%S' + 'Z')\n",
    "df.head()"
   ]
  },
  {
   "cell_type": "code",
   "execution_count": 16,
   "id": "333d6ef8",
   "metadata": {},
   "outputs": [
    {
     "name": "stderr",
     "output_type": "stream",
     "text": [
      "/tmp/ipykernel_3871094/1834336362.py:2: SettingWithCopyWarning: \n",
      "A value is trying to be set on a copy of a slice from a DataFrame\n",
      "\n",
      "See the caveats in the documentation: https://pandas.pydata.org/pandas-docs/stable/user_guide/indexing.html#returning-a-view-versus-a-copy\n",
      "  df_before_threshold.drop(columns=['id','author'],inplace=True)\n",
      "/tmp/ipykernel_3871094/1834336362.py:3: SettingWithCopyWarning: \n",
      "A value is trying to be set on a copy of a slice from a DataFrame\n",
      "\n",
      "See the caveats in the documentation: https://pandas.pydata.org/pandas-docs/stable/user_guide/indexing.html#returning-a-view-versus-a-copy\n",
      "  df_after_threshold.drop(columns=['id','author'],inplace=True)\n"
     ]
    }
   ],
   "source": [
    "df.drop(columns=['id','author'],inplace=True)\n",
    "df_before_threshold.drop(columns=['id','author'],inplace=True)\n",
    "df_after_threshold.drop(columns=['id','author'],inplace=True)"
   ]
  },
  {
   "cell_type": "code",
   "execution_count": 18,
   "id": "6fd9633e",
   "metadata": {},
   "outputs": [
    {
     "name": "stdout",
     "output_type": "stream",
     "text": [
      "6040109\n"
     ]
    },
    {
     "name": "stdout",
     "output_type": "stream",
     "text": [
      "2133\n",
      "125124\n",
      "5760439\n",
      "2111\n",
      "117097\n",
      "279670\n",
      "1472\n",
      "15477\n"
     ]
    }
   ],
   "source": [
    "for d in [df, df_before_threshold, df_after_threshold]:\n",
    "    print(len(d))\n",
    "    print(d.origin.nunique())\n",
    "    print(d.author_id.nunique())"
   ]
  },
  {
   "cell_type": "markdown",
   "id": "dc3d3c05-4811-411d-97df-bbd482bb0072",
   "metadata": {},
   "source": [
    "### 保存文件"
   ]
  },
  {
   "cell_type": "code",
   "execution_count": 14,
   "id": "e6bbb0f2-fb58-4c40-a4e7-5a9a8abafba0",
   "metadata": {},
   "outputs": [],
   "source": [
    "# save the file with the date\n",
    "df_before_threshold.to_csv('./data/python3k_rem_before.csv',index=False)"
   ]
  },
  {
   "cell_type": "code",
   "execution_count": 15,
   "id": "4cfff0cd",
   "metadata": {},
   "outputs": [],
   "source": [
    "# save the file with the date\n",
    "df_after_threshold.to_csv('./data/python3k_rem_after.csv',index=False)"
   ]
  },
  {
   "cell_type": "code",
   "execution_count": 16,
   "id": "9289f37a",
   "metadata": {},
   "outputs": [],
   "source": [
    "# save the file with the date\n",
    "df.to_csv('./data/python3k_rem.csv',index=False)"
   ]
  },
  {
   "cell_type": "code",
   "execution_count": null,
   "id": "5c09f3f2-e9f1-4fbc-8d9e-95aaec0b1db5",
   "metadata": {},
   "outputs": [],
   "source": [
    "# df.origin.nunique()"
   ]
  },
  {
   "cell_type": "code",
   "execution_count": null,
   "id": "9b732181-2139-4581-b585-27c68424245f",
   "metadata": {},
   "outputs": [],
   "source": [
    "# df.authors.nunique()"
   ]
  },
  {
   "cell_type": "code",
   "execution_count": null,
   "id": "8f0b534f",
   "metadata": {},
   "outputs": [],
   "source": []
  }
 ],
 "metadata": {
  "kernelspec": {
   "display_name": "Python 3 (ipykernel)",
   "language": "python",
   "name": "python3"
  },
  "language_info": {
   "codemirror_mode": {
    "name": "ipython",
    "version": 3
   },
   "file_extension": ".py",
   "mimetype": "text/x-python",
   "name": "python",
   "nbconvert_exporter": "python",
   "pygments_lexer": "ipython3",
   "version": "3.10.12"
  }
 },
 "nbformat": 4,
 "nbformat_minor": 5
}
