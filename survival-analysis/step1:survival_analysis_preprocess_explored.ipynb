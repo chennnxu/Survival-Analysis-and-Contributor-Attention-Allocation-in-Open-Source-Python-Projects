{
 "cells": [
  {
   "cell_type": "code",
   "execution_count": 1,
   "metadata": {},
   "outputs": [],
   "source": [
    "from pyspark.sql.functions import udf,col,split,regexp_extract_all,regexp_extract,explode,size,countDistinct, when, max, min, count\n",
    "from pyspark.sql import functions as F\n",
    "from pyspark.sql import SparkSession\n",
    "from pyspark.sql.types import StructType, StructField, StringType, IntegerType\n"
   ]
  },
  {
   "cell_type": "markdown",
   "metadata": {},
   "source": [
    "### Load dataset"
   ]
  },
  {
   "cell_type": "code",
   "execution_count": 2,
   "metadata": {},
   "outputs": [
    {
     "name": "stderr",
     "output_type": "stream",
     "text": [
      "24/01/28 21:46:07 WARN Utils: Your hostname, cssh-alpha resolves to a loopback address: 127.0.1.1; using 134.130.186.164 instead (on interface bond0)\n",
      "24/01/28 21:46:07 WARN Utils: Set SPARK_LOCAL_IP if you need to bind to another address\n",
      "Setting default log level to \"WARN\".\n",
      "To adjust logging level use sc.setLogLevel(newLevel). For SparkR, use setLogLevel(newLevel).\n",
      "24/01/28 21:46:07 WARN NativeCodeLoader: Unable to load native-hadoop library for your platform... using builtin-java classes where applicable\n"
     ]
    }
   ],
   "source": [
    "# Create a Spark session\n",
    "spark = SparkSession.builder.appName(\"SurvivalDataAnalysis\").master(\"local[*]\") \\\n",
    "    .config(\"spark.driver.memory\", \"32g\") \\\n",
    "    .config(\"spark.executor.meomory\", \"40g\") \\\n",
    "        .getOrCreate()\n",
    "\n",
    "    # .config(\"spark.executor.meomory\", \"24g\") \\\n",
    "    #     .config(\"spark.driver.maxResultSize\", \"16g\") \\\n"
   ]
  },
  {
   "cell_type": "code",
   "execution_count": 3,
   "metadata": {},
   "outputs": [],
   "source": [
    "# spark.stop()"
   ]
  },
  {
   "cell_type": "code",
   "execution_count": 4,
   "metadata": {},
   "outputs": [
    {
     "name": "stdout",
     "output_type": "stream",
     "text": [
      "root\n",
      " |-- value: string (nullable = true)\n",
      "\n",
      "+--------------------+\n",
      "|               value|\n",
      "+--------------------+\n",
      "|e782789e19560aed3...|\n",
      "|4d2dac5c607a2cacb...|\n",
      "|bc1a0babc0c8485a5...|\n",
      "|0fbaa115e7fe163ce...|\n",
      "|6b8f724a4fbd9a2c7...|\n",
      "+--------------------+\n",
      "only showing top 5 rows\n",
      "\n"
     ]
    },
    {
     "name": "stderr",
     "output_type": "stream",
     "text": [
      "[Stage 2:====================================================>    (66 + 6) / 72]\r"
     ]
    },
    {
     "name": "stdout",
     "output_type": "stream",
     "text": [
      "Length of the dataset: 19537 rows\n"
     ]
    },
    {
     "name": "stderr",
     "output_type": "stream",
     "text": [
      "                                                                                \r"
     ]
    }
   ],
   "source": [
    "# Specify the path to the folder containing Orc files\n",
    "input_folder_path = \"/home/cxu/snapshot-revisions/snap_revisions.csv\"\n",
    "\n",
    "# Define the schema for your CSV file\n",
    "# custom_schema = StructType([\n",
    "#     StructField(\"index\", IntegerType(), True),\n",
    "#     StructField(\"value\", StringType(), True)\n",
    "# ])\n",
    "\n",
    "# Read Orc files into a DataFrame\n",
    "snp_revisions = spark.read.format(\"csv\").option(\"sep\", \":\").option(\"header\", True).load(input_folder_path)\n",
    "\n",
    "# Print the schema of the dataset\n",
    "snp_revisions.printSchema()\n",
    "\n",
    "# Show the first 5 rows of the dataset\n",
    "snp_revisions.show(5)\n",
    "\n",
    "# Get the length of the dataset\n",
    "dataset_length = snp_revisions.count()\n",
    "\n",
    "# Show the length of the dataset\n",
    "print(f\"Length of the dataset: {dataset_length} rows\")"
   ]
  },
  {
   "cell_type": "code",
   "execution_count": 5,
   "metadata": {},
   "outputs": [],
   "source": [
    "# snp_revisions.take(3)"
   ]
  },
  {
   "cell_type": "markdown",
   "metadata": {},
   "source": [
    "### New columns: snapshot, revisions, num_revisions\n",
    "\n",
    "filter the rows with num_revisions==0\n"
   ]
  },
  {
   "cell_type": "code",
   "execution_count": 6,
   "metadata": {},
   "outputs": [],
   "source": [
    "df = snp_revisions.withColumn('snapshot', col('value').substr(0,40))"
   ]
  },
  {
   "cell_type": "code",
   "execution_count": 7,
   "metadata": {},
   "outputs": [],
   "source": [
    "# Extract strings matching the pattern \"swh:1:rev:xxxxxxxxxxxxxxxxxxxxxxxxxxxxxxxxxxxxxxxx\"\n",
    "# pattern = r\"swh:1:rev:([a-zA-Z0-9]{40})\"\n",
    "# df = df.withColumn(\"revisions\", regexp_extract(df[\"value\"], pattern, 1))\n",
    "\n",
    "df = df.withColumn('revisions', F.expr(r\"regexp_extract_all(value, 'swh:1:rev:([a-zA-Z0-9]{40})', 1)\"))\n"
   ]
  },
  {
   "cell_type": "code",
   "execution_count": 8,
   "metadata": {},
   "outputs": [],
   "source": [
    "df = df.withColumn(\"num_revisions\", size(col(\"revisions\")))"
   ]
  },
  {
   "cell_type": "code",
   "execution_count": 9,
   "metadata": {},
   "outputs": [],
   "source": [
    "# df.take(3)"
   ]
  },
  {
   "cell_type": "code",
   "execution_count": 10,
   "metadata": {},
   "outputs": [
    {
     "name": "stdout",
     "output_type": "stream",
     "text": [
      "+--------------------+--------------------+--------------------+-------------+\n",
      "|               value|            snapshot|           revisions|num_revisions|\n",
      "+--------------------+--------------------+--------------------+-------------+\n",
      "|e782789e19560aed3...|e782789e19560aed3...|                  []|            0|\n",
      "|4d2dac5c607a2cacb...|4d2dac5c607a2cacb...|[5b98a95ef18f8048...|            4|\n",
      "|bc1a0babc0c8485a5...|bc1a0babc0c8485a5...|[fae76cf418675b17...|           18|\n",
      "|0fbaa115e7fe163ce...|0fbaa115e7fe163ce...|[1a1f62c50a72b5e4...|            5|\n",
      "|6b8f724a4fbd9a2c7...|6b8f724a4fbd9a2c7...|[9daca5d1037e3b95...|           32|\n",
      "|da84a8b50ea49efd9...|da84a8b50ea49efd9...|[cfa46b2c34e024e8...|           25|\n",
      "|a15e803497a7da06f...|a15e803497a7da06f...|[396890f255dd7840...|          121|\n",
      "|20270dbf7bd07a326...|20270dbf7bd07a326...|[d409b8e161995423...|           21|\n",
      "|74d2a6faf8aaa9b6a...|74d2a6faf8aaa9b6a...|[851df60ef12ab09b...|            6|\n",
      "|826cd41fdd676d334...|826cd41fdd676d334...|                  []|            0|\n",
      "|3612d51f656842079...|3612d51f656842079...|[c06ed62eef81c9d2...|            3|\n",
      "|67503f4e72c5c3bf4...|67503f4e72c5c3bf4...|[3cd657c902424450...|           20|\n",
      "|909d63c4bc806d661...|909d63c4bc806d661...|[99705f762f75d2f9...|           49|\n",
      "|452787b02a4ba64e5...|452787b02a4ba64e5...|                  []|            0|\n",
      "|1418cc61e01f363d8...|1418cc61e01f363d8...|[a15b5bcde8a5f571...|          106|\n",
      "|b3f2df6fc9f7c8943...|b3f2df6fc9f7c8943...|[e04f816139941f0b...|           59|\n",
      "|31ed4aaf9e3e69852...|31ed4aaf9e3e69852...|[3fcd40862f8edc5e...|           48|\n",
      "|202d37781c5036391...|202d37781c5036391...|[551f265e85a40b0e...|           94|\n",
      "|21e510cd8c630b376...|21e510cd8c630b376...|[11fcefa7223113ee...|          739|\n",
      "|54edd743cc086d3cf...|54edd743cc086d3cf...|[669f794fda0a1e0b...|           37|\n",
      "+--------------------+--------------------+--------------------+-------------+\n",
      "only showing top 20 rows\n",
      "\n"
     ]
    }
   ],
   "source": [
    "df.show()"
   ]
  },
  {
   "cell_type": "code",
   "execution_count": 11,
   "metadata": {},
   "outputs": [],
   "source": [
    "filtered_df= df.filter(col(\"num_revisions\") != 0)"
   ]
  },
  {
   "cell_type": "code",
   "execution_count": 12,
   "metadata": {},
   "outputs": [
    {
     "name": "stdout",
     "output_type": "stream",
     "text": [
      "+--------------------+--------------------+--------------------+-------------+\n",
      "|               value|            snapshot|           revisions|num_revisions|\n",
      "+--------------------+--------------------+--------------------+-------------+\n",
      "|4d2dac5c607a2cacb...|4d2dac5c607a2cacb...|[5b98a95ef18f8048...|            4|\n",
      "|bc1a0babc0c8485a5...|bc1a0babc0c8485a5...|[fae76cf418675b17...|           18|\n",
      "|0fbaa115e7fe163ce...|0fbaa115e7fe163ce...|[1a1f62c50a72b5e4...|            5|\n",
      "|6b8f724a4fbd9a2c7...|6b8f724a4fbd9a2c7...|[9daca5d1037e3b95...|           32|\n",
      "|da84a8b50ea49efd9...|da84a8b50ea49efd9...|[cfa46b2c34e024e8...|           25|\n",
      "|a15e803497a7da06f...|a15e803497a7da06f...|[396890f255dd7840...|          121|\n",
      "|20270dbf7bd07a326...|20270dbf7bd07a326...|[d409b8e161995423...|           21|\n",
      "|74d2a6faf8aaa9b6a...|74d2a6faf8aaa9b6a...|[851df60ef12ab09b...|            6|\n",
      "|3612d51f656842079...|3612d51f656842079...|[c06ed62eef81c9d2...|            3|\n",
      "|67503f4e72c5c3bf4...|67503f4e72c5c3bf4...|[3cd657c902424450...|           20|\n",
      "|909d63c4bc806d661...|909d63c4bc806d661...|[99705f762f75d2f9...|           49|\n",
      "|1418cc61e01f363d8...|1418cc61e01f363d8...|[a15b5bcde8a5f571...|          106|\n",
      "|b3f2df6fc9f7c8943...|b3f2df6fc9f7c8943...|[e04f816139941f0b...|           59|\n",
      "|31ed4aaf9e3e69852...|31ed4aaf9e3e69852...|[3fcd40862f8edc5e...|           48|\n",
      "|202d37781c5036391...|202d37781c5036391...|[551f265e85a40b0e...|           94|\n",
      "|21e510cd8c630b376...|21e510cd8c630b376...|[11fcefa7223113ee...|          739|\n",
      "|54edd743cc086d3cf...|54edd743cc086d3cf...|[669f794fda0a1e0b...|           37|\n",
      "|c41921220e453e0bb...|c41921220e453e0bb...|[5b65477cdc61c14b...|           64|\n",
      "|409011c6542af44a2...|409011c6542af44a2...|[d5b8ab2bdedc95e0...|            3|\n",
      "|4a37e267661285e11...|4a37e267661285e11...|[835e3a9f4e1e5a3f...|            3|\n",
      "+--------------------+--------------------+--------------------+-------------+\n",
      "only showing top 20 rows\n",
      "\n"
     ]
    }
   ],
   "source": [
    "filtered_df.show()"
   ]
  },
  {
   "cell_type": "code",
   "execution_count": 13,
   "metadata": {},
   "outputs": [
    {
     "name": "stdout",
     "output_type": "stream",
     "text": [
      "root\n",
      " |-- value: string (nullable = true)\n",
      " |-- snapshot: string (nullable = true)\n",
      " |-- revisions: array (nullable = true)\n",
      " |    |-- element: string (containsNull = true)\n",
      " |-- num_revisions: integer (nullable = false)\n",
      "\n"
     ]
    }
   ],
   "source": [
    "filtered_df.printSchema()"
   ]
  },
  {
   "cell_type": "code",
   "execution_count": 14,
   "metadata": {},
   "outputs": [],
   "source": [
    "final_df = filtered_df.select('snapshot','revisions','num_revisions')"
   ]
  },
  {
   "cell_type": "code",
   "execution_count": 15,
   "metadata": {},
   "outputs": [],
   "source": [
    "# final_df.count()"
   ]
  },
  {
   "cell_type": "code",
   "execution_count": 16,
   "metadata": {},
   "outputs": [],
   "source": [
    "# final_df.write.json('./snapshot_revisions/')"
   ]
  },
  {
   "cell_type": "markdown",
   "metadata": {},
   "source": [
    "### Explode the revisions"
   ]
  },
  {
   "cell_type": "code",
   "execution_count": 17,
   "metadata": {},
   "outputs": [],
   "source": [
    "exploded_df = final_df.select(\"snapshot\", explode(\"revisions\").alias(\"revision\"))"
   ]
  },
  {
   "cell_type": "code",
   "execution_count": 18,
   "metadata": {},
   "outputs": [
    {
     "name": "stdout",
     "output_type": "stream",
     "text": [
      "+--------------------+--------------------+\n",
      "|            snapshot|            revision|\n",
      "+--------------------+--------------------+\n",
      "|4d2dac5c607a2cacb...|5b98a95ef18f8048a...|\n",
      "|4d2dac5c607a2cacb...|449231747dff1fdb7...|\n",
      "|4d2dac5c607a2cacb...|201b68d571c4427bf...|\n",
      "|4d2dac5c607a2cacb...|4ad4585798a150547...|\n",
      "|bc1a0babc0c8485a5...|fae76cf418675b179...|\n",
      "|bc1a0babc0c8485a5...|7d6752d0e35b8a01d...|\n",
      "|bc1a0babc0c8485a5...|b5f2a4a7b7ab55cf1...|\n",
      "|bc1a0babc0c8485a5...|ee845b8287f864d49...|\n",
      "|bc1a0babc0c8485a5...|2ca137e860fff9b74...|\n",
      "|bc1a0babc0c8485a5...|7b9d12e76d5c3d3f3...|\n",
      "|bc1a0babc0c8485a5...|2be928b62fac9cbdb...|\n",
      "|bc1a0babc0c8485a5...|4334fd1aa89f6ca17...|\n",
      "|bc1a0babc0c8485a5...|2c2e363acc0cab4bc...|\n",
      "|bc1a0babc0c8485a5...|d8420690b538ada42...|\n",
      "|bc1a0babc0c8485a5...|72d3752d2086c455f...|\n",
      "|bc1a0babc0c8485a5...|0caf0b9e05ee016a8...|\n",
      "|bc1a0babc0c8485a5...|b1b35fdb894239395...|\n",
      "|bc1a0babc0c8485a5...|e8a81a2af0c9667ed...|\n",
      "|bc1a0babc0c8485a5...|d7d6d75a6c375465e...|\n",
      "|bc1a0babc0c8485a5...|54c297b921fba8489...|\n",
      "+--------------------+--------------------+\n",
      "only showing top 20 rows\n",
      "\n"
     ]
    }
   ],
   "source": [
    "exploded_df.show()"
   ]
  },
  {
   "cell_type": "code",
   "execution_count": 19,
   "metadata": {},
   "outputs": [
    {
     "name": "stdout",
     "output_type": "stream",
     "text": [
      "root\n",
      " |-- snapshot: string (nullable = true)\n",
      " |-- revision: string (nullable = true)\n",
      "\n"
     ]
    }
   ],
   "source": [
    "exploded_df.printSchema()"
   ]
  },
  {
   "cell_type": "code",
   "execution_count": 20,
   "metadata": {},
   "outputs": [],
   "source": [
    "# df.count()"
   ]
  },
  {
   "cell_type": "code",
   "execution_count": 21,
   "metadata": {},
   "outputs": [
    {
     "name": "stderr",
     "output_type": "stream",
     "text": [
      "                                                                                \r"
     ]
    }
   ],
   "source": [
    "exploded_df.write.json('./snapshot_revisions_explored/')"
   ]
  },
  {
   "cell_type": "code",
   "execution_count": 22,
   "metadata": {},
   "outputs": [],
   "source": [
    "spark.stop()"
   ]
  },
  {
   "cell_type": "code",
   "execution_count": null,
   "metadata": {},
   "outputs": [],
   "source": []
  }
 ],
 "metadata": {
  "kernelspec": {
   "display_name": "Python 3",
   "language": "python",
   "name": "python3"
  },
  "language_info": {
   "codemirror_mode": {
    "name": "ipython",
    "version": 3
   },
   "file_extension": ".py",
   "mimetype": "text/x-python",
   "name": "python",
   "nbconvert_exporter": "python",
   "pygments_lexer": "ipython3",
   "version": "3.9.6"
  }
 },
 "nbformat": 4,
 "nbformat_minor": 2
}
