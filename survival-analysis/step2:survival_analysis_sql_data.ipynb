{
 "cells": [
  {
   "cell_type": "markdown",
   "metadata": {},
   "source": [
    "## Survival Analysis"
   ]
  },
  {
   "cell_type": "code",
   "execution_count": 1,
   "metadata": {},
   "outputs": [],
   "source": [
    "from pyspark.sql.functions import udf,col,split,regexp_extract_all,regexp_extract,explode,size,countDistinct, when, max, min, count\n",
    "from pyspark.sql import functions as F\n",
    "from pyspark.sql import SparkSession\n",
    "from pyspark.sql.types import StructType, StructField, StringType, IntegerType\n"
   ]
  },
  {
   "cell_type": "markdown",
   "metadata": {},
   "source": [
    "### Load dataset"
   ]
  },
  {
   "cell_type": "code",
   "execution_count": 2,
   "metadata": {},
   "outputs": [
    {
     "name": "stderr",
     "output_type": "stream",
     "text": [
      "24/01/28 22:10:09 WARN Utils: Your hostname, cssh-alpha resolves to a loopback address: 127.0.1.1; using 134.130.186.164 instead (on interface bond0)\n",
      "24/01/28 22:10:09 WARN Utils: Set SPARK_LOCAL_IP if you need to bind to another address\n",
      "Setting default log level to \"WARN\".\n",
      "To adjust logging level use sc.setLogLevel(newLevel). For SparkR, use setLogLevel(newLevel).\n",
      "24/01/28 22:10:10 WARN NativeCodeLoader: Unable to load native-hadoop library for your platform... using builtin-java classes where applicable\n"
     ]
    }
   ],
   "source": [
    "# Create a Spark session\n",
    "spark = SparkSession.builder.appName(\"SurvivalDataAnalysis\").master(\"local[*]\") \\\n",
    "    .config(\"spark.driver.memory\", \"64g\") \\\n",
    "    .config(\"spark.executor.meomory\", \"64g\") \\\n",
    "        .getOrCreate()\n",
    "\n",
    "    # .config(\"spark.executor.meomory\", \"24g\") \\\n",
    "    #     .config(\"spark.driver.maxResultSize\", \"16g\") \\\n"
   ]
  },
  {
   "cell_type": "code",
   "execution_count": 3,
   "metadata": {},
   "outputs": [],
   "source": [
    "# spark.stop()"
   ]
  },
  {
   "cell_type": "code",
   "execution_count": 4,
   "metadata": {},
   "outputs": [
    {
     "name": "stderr",
     "output_type": "stream",
     "text": [
      "                                                                                \r"
     ]
    },
    {
     "name": "stdout",
     "output_type": "stream",
     "text": [
      "root\n",
      " |-- id: string (nullable = true)\n",
      " |-- message: binary (nullable = true)\n",
      " |-- author: binary (nullable = true)\n",
      " |-- date: timestamp (nullable = true)\n",
      " |-- date_offset: short (nullable = true)\n",
      " |-- committer: binary (nullable = true)\n",
      " |-- committer_date: timestamp (nullable = true)\n",
      " |-- committer_offset: short (nullable = true)\n",
      " |-- directory: string (nullable = true)\n",
      "\n",
      "+--------------------+--------------------+--------------------+-------------------+-----------+--------------------+-------------------+----------------+--------------------+\n",
      "|                  id|             message|              author|               date|date_offset|           committer|     committer_date|committer_offset|           directory|\n",
      "+--------------------+--------------------+--------------------+-------------------+-----------+--------------------+-------------------+----------------+--------------------+\n",
      "|e0b7070276027464e...|[66 69 78 69 6E 6...|[EE 2C E1 74 91 2...|2018-10-23 21:01:57|        120|[EE 2C E1 74 91 2...|2019-01-10 23:06:25|              60|e56f5ce1308377acc...|\n",
      "+--------------------+--------------------+--------------------+-------------------+-----------+--------------------+-------------------+----------------+--------------------+\n",
      "only showing top 1 row\n",
      "\n",
      "Length of the dataset: 5971345 rows\n",
      "root\n",
      " |-- revision: string (nullable = true)\n",
      " |-- snapshot: string (nullable = true)\n",
      "\n",
      "+--------------------+--------------------+\n",
      "|            revision|            snapshot|\n",
      "+--------------------+--------------------+\n",
      "|1cace1fca5b7b23c6...|270132c1ea02dde03...|\n",
      "+--------------------+--------------------+\n",
      "only showing top 1 row\n",
      "\n"
     ]
    },
    {
     "name": "stderr",
     "output_type": "stream",
     "text": [
      "                                                                                \r"
     ]
    },
    {
     "name": "stdout",
     "output_type": "stream",
     "text": [
      "Length of the dataset: 76359551 rows\n",
      "root\n",
      " |-- origin: string (nullable = true)\n",
      " |-- visit: long (nullable = true)\n",
      " |-- date: timestamp (nullable = true)\n",
      " |-- status: string (nullable = true)\n",
      " |-- snapshot: string (nullable = true)\n",
      "\n",
      "+--------------------+-----+--------------------+-------+--------------------+\n",
      "|              origin|visit|                date| status|            snapshot|\n",
      "+--------------------+-----+--------------------+-------+--------------------+\n",
      "|deb://Debian/pack...|  287|2017-12-22 16:34:...|partial|48cfa88294968d0de...|\n",
      "+--------------------+-----+--------------------+-------+--------------------+\n",
      "only showing top 1 row\n",
      "\n",
      "Length of the dataset: 784380 rows\n",
      "root\n",
      " |-- origin: string (nullable = true)\n",
      " |-- visit: long (nullable = true)\n",
      " |-- date: timestamp (nullable = true)\n",
      " |-- type: string (nullable = true)\n",
      "\n",
      "+--------------------+-----+--------------------+----+\n",
      "|              origin|visit|                date|type|\n",
      "+--------------------+-----+--------------------+----+\n",
      "|https://pypi.org/...|  600|2020-12-21 09:28:...|pypi|\n",
      "+--------------------+-----+--------------------+----+\n",
      "only showing top 1 row\n",
      "\n",
      "Length of the dataset: 775004 rows\n"
     ]
    }
   ],
   "source": [
    "# Specify the path to the folder containing Orc files\n",
    "input_folder_revision = \"/home/cxu/swh-popular-3k-python/revision\"\n",
    "input_folder_snapshot = \"/home/cxu/code-survival-analysis/snapshot_revisions_explored\"\n",
    "# input_folder_release = \"/home/cxu/swh-popular-3k-python/release\"\n",
    "input_folder_origin_visit_status = \"/home/cxu/swh-popular-3k-python/origin_visit_status\"\n",
    "input_folder_origin_visit = \"/home/cxu/swh-popular-3k-python/origin_visit\"\n",
    "\n",
    "# Read files into a DataFrame\n",
    "revision = spark.read.format(\"orc\").load(input_folder_revision)\n",
    "snapshot = spark.read.format(\"json\").load(input_folder_snapshot)\n",
    "# release = spark.read.format(\"orc\").load(input_folder_release)\n",
    "origin_visit_status = spark.read.format(\"orc\").load(input_folder_origin_visit_status)\n",
    "origin_visit = spark.read.format(\"orc\").load(input_folder_origin_visit)\n",
    "\n",
    "# Data description\n",
    "# Print the schema of the dataset\n",
    "tables = [revision, snapshot, origin_visit_status, origin_visit]\n",
    "for data in tables:\n",
    "    data.printSchema()\n",
    "    # Show the first 5 rows of the dataset\n",
    "    data.show(1)\n",
    "    # Get the length of the dataset\n",
    "    dataset_length = data.count()\n",
    "    # Show the length of the dataset\n",
    "    print(f\"Length of the dataset: {dataset_length} rows\")"
   ]
  },
  {
   "cell_type": "code",
   "execution_count": 5,
   "metadata": {},
   "outputs": [],
   "source": [
    "snapshot = snapshot.dropDuplicates().na.drop()"
   ]
  },
  {
   "cell_type": "code",
   "execution_count": 6,
   "metadata": {},
   "outputs": [],
   "source": [
    "# snapshot.count()"
   ]
  },
  {
   "cell_type": "code",
   "execution_count": 7,
   "metadata": {},
   "outputs": [],
   "source": [
    "origin_visit = origin_visit.dropDuplicates().na.drop()\n",
    "origin_visit_status = origin_visit_status.dropDuplicates().na.drop()\n",
    "revision = revision.dropDuplicates().na.drop()"
   ]
  },
  {
   "cell_type": "code",
   "execution_count": 25,
   "metadata": {},
   "outputs": [],
   "source": [
    "temp = revision \\\n",
    "    .join(snapshot, revision[\"id\"] == snapshot[\"revision\"], \"inner\")\\\n",
    "    .join(origin_visit_status, snapshot[\"snapshot\"] == origin_visit_status[\"snapshot\"], \"inner\")\\\n",
    "    .join(origin_visit, (origin_visit[\"origin\"] == origin_visit_status[\"origin\"]) & (origin_visit[\"visit\"] == origin_visit_status[\"visit\"]), \"inner\") \\\n",
    "    .filter((revision.date >= '2005-01-01') & (revision.date <= '2019-12-31'))\n",
    "    "
   ]
  },
  {
   "cell_type": "code",
   "execution_count": 26,
   "metadata": {},
   "outputs": [
    {
     "name": "stderr",
     "output_type": "stream",
     "text": [
      "[Stage 329:==================================================>   (94 + 6) / 100]\r"
     ]
    },
    {
     "name": "stdout",
     "output_type": "stream",
     "text": [
      "+--------------------+--------------------+--------------------+-------------------+-----------+--------------------+-------------------+----------------+--------------------+--------------------+--------------------+--------------------+-----+--------------------+------+--------------------+--------------------+-----+--------------------+----+\n",
      "|                  id|             message|              author|               date|date_offset|           committer|     committer_date|committer_offset|           directory|            revision|            snapshot|              origin|visit|                date|status|            snapshot|              origin|visit|                date|type|\n",
      "+--------------------+--------------------+--------------------+-------------------+-----------+--------------------+-------------------+----------------+--------------------+--------------------+--------------------+--------------------+-----+--------------------+------+--------------------+--------------------+-----+--------------------+----+\n",
      "|077b7d35897087929...|[4D 65 72 67 65 2...|[2A 2B A6 CD BE B...|2018-01-16 11:07:34|         60|[2A 2B A6 CD BE B...|2018-01-16 11:07:34|              60|3561b0b9bf1d79a14...|077b7d35897087929...|03f70866fbef40a67...|https://github.co...|    5|2018-06-30 15:31:...|  full|03f70866fbef40a67...|https://github.co...|    5|2018-06-30 15:31:...| git|\n",
      "|077b7d35897087929...|[4D 65 72 67 65 2...|[2A 2B A6 CD BE B...|2018-01-16 11:07:34|         60|[2A 2B A6 CD BE B...|2018-01-16 11:07:34|              60|3561b0b9bf1d79a14...|077b7d35897087929...|03f70866fbef40a67...|https://github.co...|    6|2018-07-01 05:52:...|  full|03f70866fbef40a67...|https://github.co...|    6|2018-07-01 05:52:...| git|\n",
      "|0b44c385a6134b82f...|[4D 65 72 67 65 2...|[BD 83 5B 58 47 8...|2017-10-24 04:40:18|        330|[BD 83 5B 58 47 8...|2017-10-24 04:40:18|             330|a8c7f7aeec40fbbbd...|0b44c385a6134b82f...|03f70866fbef40a67...|https://github.co...|    5|2018-06-30 15:31:...|  full|03f70866fbef40a67...|https://github.co...|    5|2018-06-30 15:31:...| git|\n",
      "|0b44c385a6134b82f...|[4D 65 72 67 65 2...|[BD 83 5B 58 47 8...|2017-10-24 04:40:18|        330|[BD 83 5B 58 47 8...|2017-10-24 04:40:18|             330|a8c7f7aeec40fbbbd...|0b44c385a6134b82f...|03f70866fbef40a67...|https://github.co...|    6|2018-07-01 05:52:...|  full|03f70866fbef40a67...|https://github.co...|    6|2018-07-01 05:52:...| git|\n",
      "|11c2a515d89714f4b...|[4D 65 6E 74 69 6...|[CB E8 61 D3 02 C...|2016-03-07 10:03:09|         60|[CB E8 61 D3 02 C...|2016-03-07 10:03:09|              60|26fe4841ddd024e6e...|11c2a515d89714f4b...|03f70866fbef40a67...|https://github.co...|    5|2018-06-30 15:31:...|  full|03f70866fbef40a67...|https://github.co...|    5|2018-06-30 15:31:...| git|\n",
      "|11c2a515d89714f4b...|[4D 65 6E 74 69 6...|[CB E8 61 D3 02 C...|2016-03-07 10:03:09|         60|[CB E8 61 D3 02 C...|2016-03-07 10:03:09|              60|26fe4841ddd024e6e...|11c2a515d89714f4b...|03f70866fbef40a67...|https://github.co...|    6|2018-07-01 05:52:...|  full|03f70866fbef40a67...|https://github.co...|    6|2018-07-01 05:52:...| git|\n",
      "|15ce6e99f62b3aa40...|[46 69 78 20 74 6...|[90 6E B7 74 15 A...|2018-02-20 11:58:23|         60|[90 6E B7 74 15 A...|2018-02-20 13:13:28|              60|52de515514ec47033...|15ce6e99f62b3aa40...|03f70866fbef40a67...|https://github.co...|    5|2018-06-30 15:31:...|  full|03f70866fbef40a67...|https://github.co...|    5|2018-06-30 15:31:...| git|\n",
      "|15ce6e99f62b3aa40...|[46 69 78 20 74 6...|[90 6E B7 74 15 A...|2018-02-20 11:58:23|         60|[90 6E B7 74 15 A...|2018-02-20 13:13:28|              60|52de515514ec47033...|15ce6e99f62b3aa40...|03f70866fbef40a67...|https://github.co...|    6|2018-07-01 05:52:...|  full|03f70866fbef40a67...|https://github.co...|    6|2018-07-01 05:52:...| git|\n",
      "|17322b1e3aaf712a1...|[41 64 64 72 65 7...|[CB E8 61 D3 02 C...|2016-11-22 12:59:17|         60|[CB E8 61 D3 02 C...|2016-11-22 12:59:17|              60|5c70e86575469c7df...|17322b1e3aaf712a1...|03f70866fbef40a67...|https://github.co...|    5|2018-06-30 15:31:...|  full|03f70866fbef40a67...|https://github.co...|    5|2018-06-30 15:31:...| git|\n",
      "|17322b1e3aaf712a1...|[41 64 64 72 65 7...|[CB E8 61 D3 02 C...|2016-11-22 12:59:17|         60|[CB E8 61 D3 02 C...|2016-11-22 12:59:17|              60|5c70e86575469c7df...|17322b1e3aaf712a1...|03f70866fbef40a67...|https://github.co...|    6|2018-07-01 05:52:...|  full|03f70866fbef40a67...|https://github.co...|    6|2018-07-01 05:52:...| git|\n",
      "|183edb1081fb5ddf2...|[52 65 76 69 73 6...|[90 6E B7 74 15 A...|2017-04-13 13:23:33|        120|[90 6E B7 74 15 A...|2017-04-13 13:23:33|             120|7ccb22d41c6c5eedb...|183edb1081fb5ddf2...|03f70866fbef40a67...|https://github.co...|    5|2018-06-30 15:31:...|  full|03f70866fbef40a67...|https://github.co...|    5|2018-06-30 15:31:...| git|\n",
      "|183edb1081fb5ddf2...|[52 65 76 69 73 6...|[90 6E B7 74 15 A...|2017-04-13 13:23:33|        120|[90 6E B7 74 15 A...|2017-04-13 13:23:33|             120|7ccb22d41c6c5eedb...|183edb1081fb5ddf2...|03f70866fbef40a67...|https://github.co...|    6|2018-07-01 05:52:...|  full|03f70866fbef40a67...|https://github.co...|    6|2018-07-01 05:52:...| git|\n",
      "|1efb3e6db41ab403a...|[55 70 64 61 74 6...|[90 6E B7 74 15 A...|2017-06-21 13:01:35|        120|[90 6E B7 74 15 A...|2017-06-21 13:01:35|             120|080be3bd548ecbd0c...|1efb3e6db41ab403a...|03f70866fbef40a67...|https://github.co...|    5|2018-06-30 15:31:...|  full|03f70866fbef40a67...|https://github.co...|    5|2018-06-30 15:31:...| git|\n",
      "|1efb3e6db41ab403a...|[55 70 64 61 74 6...|[90 6E B7 74 15 A...|2017-06-21 13:01:35|        120|[90 6E B7 74 15 A...|2017-06-21 13:01:35|             120|080be3bd548ecbd0c...|1efb3e6db41ab403a...|03f70866fbef40a67...|https://github.co...|    6|2018-07-01 05:52:...|  full|03f70866fbef40a67...|https://github.co...|    6|2018-07-01 05:52:...| git|\n",
      "|1fbb0ed4baf1ac86a...|[4D 65 72 67 65 2...|[CA A6 BF 0D E3 9...|2016-08-22 13:52:01|        120|[CA A6 BF 0D E3 9...|2016-08-22 13:52:01|             120|6aaad3c7c7b58f047...|1fbb0ed4baf1ac86a...|03f70866fbef40a67...|https://github.co...|    5|2018-06-30 15:31:...|  full|03f70866fbef40a67...|https://github.co...|    5|2018-06-30 15:31:...| git|\n",
      "|1fbb0ed4baf1ac86a...|[4D 65 72 67 65 2...|[CA A6 BF 0D E3 9...|2016-08-22 13:52:01|        120|[CA A6 BF 0D E3 9...|2016-08-22 13:52:01|             120|6aaad3c7c7b58f047...|1fbb0ed4baf1ac86a...|03f70866fbef40a67...|https://github.co...|    6|2018-07-01 05:52:...|  full|03f70866fbef40a67...|https://github.co...|    6|2018-07-01 05:52:...| git|\n",
      "|2b39566a4b93fe6a9...|[50 72 6F 62 6C 6...|[0B E7 59 47 3D 9...|2018-06-08 13:50:50|        120|[6F A0 2D B9 4E 4...|2018-06-08 13:50:50|             120|4fd4e0f17e1a09748...|2b39566a4b93fe6a9...|03f70866fbef40a67...|https://github.co...|    5|2018-06-30 15:31:...|  full|03f70866fbef40a67...|https://github.co...|    5|2018-06-30 15:31:...| git|\n",
      "|2b39566a4b93fe6a9...|[50 72 6F 62 6C 6...|[0B E7 59 47 3D 9...|2018-06-08 13:50:50|        120|[6F A0 2D B9 4E 4...|2018-06-08 13:50:50|             120|4fd4e0f17e1a09748...|2b39566a4b93fe6a9...|03f70866fbef40a67...|https://github.co...|    6|2018-07-01 05:52:...|  full|03f70866fbef40a67...|https://github.co...|    6|2018-07-01 05:52:...| git|\n",
      "|36edbc5f354e1b5b6...|[53 65 74 20 62 6...|[4E 49 6E B7 54 F...|2017-03-31 08:54:59|        120|[2A 2B A6 CD BE B...|2017-03-31 09:21:51|             120|4a9fa9cf462fd29fd...|36edbc5f354e1b5b6...|03f70866fbef40a67...|https://github.co...|    5|2018-06-30 15:31:...|  full|03f70866fbef40a67...|https://github.co...|    5|2018-06-30 15:31:...| git|\n",
      "|36edbc5f354e1b5b6...|[53 65 74 20 62 6...|[4E 49 6E B7 54 F...|2017-03-31 08:54:59|        120|[2A 2B A6 CD BE B...|2017-03-31 09:21:51|             120|4a9fa9cf462fd29fd...|36edbc5f354e1b5b6...|03f70866fbef40a67...|https://github.co...|    6|2018-07-01 05:52:...|  full|03f70866fbef40a67...|https://github.co...|    6|2018-07-01 05:52:...| git|\n",
      "+--------------------+--------------------+--------------------+-------------------+-----------+--------------------+-------------------+----------------+--------------------+--------------------+--------------------+--------------------+-----+--------------------+------+--------------------+--------------------+-----+--------------------+----+\n",
      "only showing top 20 rows\n",
      "\n"
     ]
    },
    {
     "name": "stderr",
     "output_type": "stream",
     "text": [
      "                                                                                \r"
     ]
    }
   ],
   "source": [
    "temp.show()"
   ]
  },
  {
   "cell_type": "code",
   "execution_count": null,
   "metadata": {},
   "outputs": [],
   "source": [
    "result = revision \\\n",
    "    .join(snapshot, revision[\"id\"] == snapshot[\"revision\"], \"inner\")\\\n",
    "    .join(origin_visit_status, snapshot[\"snapshot\"] == origin_visit_status[\"snapshot\"], \"inner\")\\\n",
    "    .join(origin_visit, (origin_visit[\"origin\"] == origin_visit_status[\"origin\"]) & (origin_visit[\"visit\"] == origin_visit_status[\"visit\"]), \"inner\") \\\n",
    "    .filter((revision.date >= '2005-01-01') & (revision.date <= '2019-12-31'))\\\n",
    "    .groupBy([origin_visit.origin, origin_visit.type])\\\n",
    "    .agg(\n",
    "        min(revision.date).alias(\"start_date\"),\n",
    "        max(revision.date).alias(\"end_date\"),\n",
    "        countDistinct(revision.author).alias(\"author_count\"),\n",
    "        countDistinct(revision.date).alias(\"rev_count\")\n",
    "    )\n"
   ]
  },
  {
   "cell_type": "code",
   "execution_count": 14,
   "metadata": {},
   "outputs": [
    {
     "name": "stderr",
     "output_type": "stream",
     "text": [
      "[Stage 130:=====================================================>(99 + 1) / 100]\r"
     ]
    },
    {
     "name": "stdout",
     "output_type": "stream",
     "text": [
      "+--------------------+----+-------------------+-------------------+------------+---------+\n",
      "|              origin|type|         start_date|           end_date|author_count|rev_count|\n",
      "+--------------------+----+-------------------+-------------------+------------+---------+\n",
      "|https://github.co...| git|2019-03-11 21:21:26|2019-12-26 22:55:17|         104|     2183|\n",
      "|https://gitlab.co...| git|2013-01-03 20:44:50|2019-12-24 00:39:24|          19|      512|\n",
      "|https://gitlab.co...| git|2011-01-28 15:05:17|2018-09-18 20:54:52|          27|      236|\n",
      "|https://github.co...| git|2017-01-27 05:48:19|2019-07-29 08:42:52|          10|      613|\n",
      "|https://pypi.org/...|pypi|2010-09-09 10:53:08|2019-10-20 09:15:24|           1|       43|\n",
      "|https://pypi.org/...|pypi|2013-11-10 18:04:39|2019-11-23 21:17:42|           1|       61|\n",
      "|https://github.co...| git|2019-04-04 12:27:55|2019-12-29 17:02:23|          59|      608|\n",
      "|https://github.co...| git|2012-10-17 04:07:16|2019-10-30 13:22:29|         162|      821|\n",
      "|https://gitlab.co...| git|2012-01-30 12:12:44|2019-12-09 20:02:53|          68|      692|\n",
      "|https://github.co...| git|2017-06-28 13:47:18|2019-12-22 09:48:39|          12|      502|\n",
      "|https://github.co...| git|2016-08-24 03:38:51|2018-10-08 18:10:00|         147|     2021|\n",
      "|deb://Debian/pack...| deb|2012-05-28 10:03:03|2018-11-01 22:32:47|           2|        4|\n",
      "|https://github.co...| git|2013-01-14 15:57:50|2019-12-30 21:56:15|         349|     3090|\n",
      "|https://github.co...| git|2013-12-27 11:08:51|2019-10-24 15:52:01|          55|      809|\n",
      "|https://pypi.org/...|pypi|2008-04-26 21:47:51|2019-12-13 21:29:44|           2|       33|\n",
      "|https://pypi.org/...|pypi|2013-03-18 07:02:57|2019-11-25 17:05:05|           3|       84|\n",
      "|https://github.co...| git|2019-10-07 19:17:40|2019-12-30 20:54:27|          59|      178|\n",
      "|https://github.co...| git|2019-06-19 08:16:47|2019-12-16 23:24:53|          13|       35|\n",
      "|https://pypi.org/...|pypi|2005-12-31 23:11:36|2019-11-18 06:44:45|           1|       92|\n",
      "|https://github.co...| git|2015-09-24 09:11:50|2019-12-26 20:05:14|         157|     1637|\n",
      "+--------------------+----+-------------------+-------------------+------------+---------+\n",
      "only showing top 20 rows\n",
      "\n"
     ]
    },
    {
     "name": "stderr",
     "output_type": "stream",
     "text": [
      "                                                                                \r"
     ]
    }
   ],
   "source": [
    "result.show()"
   ]
  },
  {
   "cell_type": "code",
   "execution_count": 12,
   "metadata": {},
   "outputs": [
    {
     "name": "stderr",
     "output_type": "stream",
     "text": [
      "                                                                                \r"
     ]
    },
    {
     "data": {
      "text/plain": [
       "2133"
      ]
     },
     "execution_count": 12,
     "metadata": {},
     "output_type": "execute_result"
    }
   ],
   "source": [
    "result.count()"
   ]
  },
  {
   "cell_type": "code",
   "execution_count": 18,
   "metadata": {},
   "outputs": [],
   "source": [
    "result_censored = revision \\\n",
    "    .join(snapshot, revision[\"id\"] == snapshot[\"revision\"])\\\n",
    "    .join(origin_visit_status, snapshot[\"snapshot\"] == origin_visit_status[\"snapshot\"])\\\n",
    "    .join(origin_visit, origin_visit[\"origin\"] == origin_visit_status[\"origin\"]) \\\n",
    "    .withColumn(\"censored\", when(revision[\"date\"] >= '2019-12-31', 1).otherwise(0))\\\n",
    "    .groupBy([origin_visit.origin, origin_visit.type])\\\n",
    "    .agg(\n",
    "        max(\"censored\").alias(\"censored\")\n",
    "    )"
   ]
  },
  {
   "cell_type": "code",
   "execution_count": 19,
   "metadata": {},
   "outputs": [
    {
     "name": "stderr",
     "output_type": "stream",
     "text": [
      "[Stage 184:=====================================================>(99 + 1) / 100]\r"
     ]
    },
    {
     "name": "stdout",
     "output_type": "stream",
     "text": [
      "+--------------------+----+--------+\n",
      "|              origin|type|censored|\n",
      "+--------------------+----+--------+\n",
      "|https://github.co...| git|       1|\n",
      "|https://gitlab.co...| git|       1|\n",
      "|https://pypi.org/...|pypi|       1|\n",
      "|https://github.co...| git|       0|\n",
      "|https://pypi.org/...|pypi|       1|\n",
      "|https://gitlab.co...| git|       1|\n",
      "|https://github.co...| git|       1|\n",
      "|https://github.co...| git|       1|\n",
      "|https://pypi.org/...|pypi|       1|\n",
      "|https://github.co...| git|       1|\n",
      "|https://gitlab.co...| git|       0|\n",
      "|https://github.co...| git|       0|\n",
      "|https://pypi.org/...|pypi|       1|\n",
      "|https://github.co...| git|       1|\n",
      "|https://github.co...| git|       1|\n",
      "|https://github.co...| git|       1|\n",
      "|https://pypi.org/...|pypi|       1|\n",
      "|https://pypi.org/...|pypi|       0|\n",
      "|https://pypi.org/...|pypi|       1|\n",
      "|https://github.co...| git|       1|\n",
      "+--------------------+----+--------+\n",
      "only showing top 20 rows\n",
      "\n"
     ]
    },
    {
     "name": "stderr",
     "output_type": "stream",
     "text": [
      "                                                                                \r"
     ]
    }
   ],
   "source": [
    "result_censored.show()"
   ]
  },
  {
   "cell_type": "code",
   "execution_count": 21,
   "metadata": {},
   "outputs": [
    {
     "name": "stderr",
     "output_type": "stream",
     "text": [
      "                                                                                \r"
     ]
    }
   ],
   "source": [
    "result_censored.toPandas().to_csv('data/sql_data_censored.csv', index=False)"
   ]
  },
  {
   "cell_type": "code",
   "execution_count": 15,
   "metadata": {},
   "outputs": [
    {
     "name": "stderr",
     "output_type": "stream",
     "text": [
      "                                                                                \r"
     ]
    }
   ],
   "source": [
    "result.toPandas().to_csv('data/sql_data_filtered.csv', index=False)"
   ]
  },
  {
   "cell_type": "code",
   "execution_count": 22,
   "metadata": {},
   "outputs": [],
   "source": [
    "df = result \\\n",
    "    .join(result_censored, result[\"origin\"] == result_censored[\"origin\"])\\\n",
    "    .select(result.origin, result.type, result.start_date, result.end_date, result.author_count, result.rev_count, result_censored.censored)"
   ]
  },
  {
   "cell_type": "code",
   "execution_count": 23,
   "metadata": {},
   "outputs": [
    {
     "name": "stderr",
     "output_type": "stream",
     "text": [
      "[Stage 266:>                                                        (0 + 1) / 1]\r"
     ]
    },
    {
     "name": "stdout",
     "output_type": "stream",
     "text": [
      "+--------------------+----+-------------------+-------------------+------------+---------+--------+\n",
      "|              origin|type|         start_date|           end_date|author_count|rev_count|censored|\n",
      "+--------------------+----+-------------------+-------------------+------------+---------+--------+\n",
      "|deb://Debian/pack...| deb|2012-04-18 17:06:21|2019-10-11 00:10:47|           4|        8|       1|\n",
      "|deb://Debian/pack...| deb|2008-10-19 12:19:40|2019-08-09 18:47:59|           4|        5|       0|\n",
      "|deb://Debian/pack...| deb|2016-09-05 18:27:20|2019-08-25 14:20:15|           1|        7|       1|\n",
      "|deb://Debian/pack...| deb|2012-04-18 17:22:57|2019-11-26 19:11:26|           2|       22|       1|\n",
      "|deb://Debian/pack...| deb|2009-11-14 14:58:53|2019-12-22 22:26:30|           7|       11|       1|\n",
      "|deb://Debian/pack...| deb|2014-10-19 23:21:11|2019-10-19 21:20:41|           4|       10|       1|\n",
      "|deb://Debian/pack...| deb|2011-06-02 16:27:14|2019-10-10 20:03:46|           4|        4|       1|\n",
      "|deb://Debian/pack...| deb|2010-10-27 07:35:19|2019-08-08 13:14:08|           2|        8|       1|\n",
      "|deb://Debian/pack...| deb|2011-10-02 09:29:20|2019-11-18 09:45:39|           1|        8|       1|\n",
      "|deb://Debian/pack...| deb|2016-02-28 14:40:00|2019-10-20 17:17:35|           2|        4|       0|\n",
      "|deb://Debian/pack...| deb|2014-09-05 01:38:53|2019-10-21 08:06:21|           2|        7|       1|\n",
      "|deb://Debian/pack...| deb|2012-05-06 15:20:23|2018-11-23 17:42:16|           2|        5|       1|\n",
      "|deb://Debian/pack...| deb|2011-05-27 15:22:14|2018-05-19 12:16:25|           2|        5|       1|\n",
      "|deb://Debian/pack...| deb|2011-10-09 16:22:01|2019-12-01 18:43:04|           3|        5|       1|\n",
      "|deb://Debian/pack...| deb|2012-02-11 13:13:43|2019-09-05 12:30:57|           2|        7|       0|\n",
      "|deb://Debian/pack...| deb|2013-11-09 12:34:52|2019-11-01 00:52:44|           5|        9|       1|\n",
      "|deb://Debian/pack...| deb|2012-06-30 16:14:57|2019-07-22 10:16:59|           2|        8|       1|\n",
      "|deb://Debian/pack...| deb|2012-06-30 16:17:39|2019-10-21 10:07:20|           2|        8|       1|\n",
      "|deb://Debian/pack...| deb|2014-10-21 18:24:09|2019-07-22 10:17:06|           1|        7|       1|\n",
      "|https://github.co...| git|2018-09-16 08:52:48|2019-11-13 15:10:04|          12|      243|       1|\n",
      "+--------------------+----+-------------------+-------------------+------------+---------+--------+\n",
      "only showing top 20 rows\n",
      "\n"
     ]
    },
    {
     "name": "stderr",
     "output_type": "stream",
     "text": [
      "                                                                                \r"
     ]
    }
   ],
   "source": [
    "df.show()"
   ]
  },
  {
   "cell_type": "code",
   "execution_count": 24,
   "metadata": {},
   "outputs": [
    {
     "name": "stderr",
     "output_type": "stream",
     "text": [
      "24/01/28 23:06:37 WARN RowBasedKeyValueBatch: Calling spill() on RowBasedKeyValueBatch. Will not spill but return 0.\n",
      "24/01/28 23:06:37 WARN RowBasedKeyValueBatch: Calling spill() on RowBasedKeyValueBatch. Will not spill but return 0.\n",
      "24/01/28 23:06:41 WARN RowBasedKeyValueBatch: Calling spill() on RowBasedKeyValueBatch. Will not spill but return 0.\n",
      "24/01/28 23:06:44 WARN RowBasedKeyValueBatch: Calling spill() on RowBasedKeyValueBatch. Will not spill but return 0.\n",
      "                                                                                \r"
     ]
    }
   ],
   "source": [
    "df.toPandas().to_csv('data/sql_data_filtered_censored.csv', index=False)"
   ]
  }
 ],
 "metadata": {
  "kernelspec": {
   "display_name": "Python 3",
   "language": "python",
   "name": "python3"
  },
  "language_info": {
   "codemirror_mode": {
    "name": "ipython",
    "version": 3
   },
   "file_extension": ".py",
   "mimetype": "text/x-python",
   "name": "python",
   "nbconvert_exporter": "python",
   "pygments_lexer": "ipython3",
   "version": "3.9.6"
  }
 },
 "nbformat": 4,
 "nbformat_minor": 2
}
