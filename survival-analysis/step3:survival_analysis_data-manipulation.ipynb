{
 "cells": [
  {
   "cell_type": "code",
   "execution_count": 25,
   "metadata": {},
   "outputs": [],
   "source": [
    "import pandas as pd\n",
    "import numpy as np\n",
    "import matplotlib.pyplot as plt"
   ]
  },
  {
   "cell_type": "code",
   "execution_count": 26,
   "metadata": {},
   "outputs": [],
   "source": [
    "# Read in data from sql_queries\n",
    "data = pd.read_csv(\"data/sql_data_filtered_censored.csv\")"
   ]
  },
  {
   "cell_type": "code",
   "execution_count": 27,
   "metadata": {},
   "outputs": [
    {
     "name": "stdout",
     "output_type": "stream",
     "text": [
      "<class 'pandas.core.frame.DataFrame'>\n",
      "RangeIndex: 2111 entries, 0 to 2110\n",
      "Data columns (total 7 columns):\n",
      " #   Column        Non-Null Count  Dtype \n",
      "---  ------        --------------  ----- \n",
      " 0   origin        2111 non-null   object\n",
      " 1   type          2111 non-null   object\n",
      " 2   start_date    2111 non-null   object\n",
      " 3   end_date      2111 non-null   object\n",
      " 4   author_count  2111 non-null   int64 \n",
      " 5   rev_count     2111 non-null   int64 \n",
      " 6   censored      2111 non-null   int64 \n",
      "dtypes: int64(3), object(4)\n",
      "memory usage: 115.6+ KB\n"
     ]
    }
   ],
   "source": [
    "data.info()"
   ]
  },
  {
   "cell_type": "code",
   "execution_count": 28,
   "metadata": {},
   "outputs": [
    {
     "data": {
      "text/plain": [
       "(141876, 4315279)"
      ]
     },
     "execution_count": 28,
     "metadata": {},
     "output_type": "execute_result"
    }
   ],
   "source": [
    "data.author_count.sum(), data.rev_count.sum()"
   ]
  },
  {
   "cell_type": "code",
   "execution_count": 29,
   "metadata": {},
   "outputs": [
    {
     "data": {
      "text/html": [
       "<div>\n",
       "<style scoped>\n",
       "    .dataframe tbody tr th:only-of-type {\n",
       "        vertical-align: middle;\n",
       "    }\n",
       "\n",
       "    .dataframe tbody tr th {\n",
       "        vertical-align: top;\n",
       "    }\n",
       "\n",
       "    .dataframe thead th {\n",
       "        text-align: right;\n",
       "    }\n",
       "</style>\n",
       "<table border=\"1\" class=\"dataframe\">\n",
       "  <thead>\n",
       "    <tr style=\"text-align: right;\">\n",
       "      <th></th>\n",
       "      <th>origin</th>\n",
       "      <th>type</th>\n",
       "      <th>start_date</th>\n",
       "      <th>end_date</th>\n",
       "      <th>author_count</th>\n",
       "      <th>rev_count</th>\n",
       "      <th>censored</th>\n",
       "    </tr>\n",
       "  </thead>\n",
       "  <tbody>\n",
       "    <tr>\n",
       "      <th>0</th>\n",
       "      <td>deb://Debian/packages/accerciser</td>\n",
       "      <td>deb</td>\n",
       "      <td>2012-04-18 17:06:21</td>\n",
       "      <td>2019-10-11 00:10:47</td>\n",
       "      <td>4</td>\n",
       "      <td>8</td>\n",
       "      <td>1</td>\n",
       "    </tr>\n",
       "    <tr>\n",
       "      <th>1</th>\n",
       "      <td>deb://Debian/packages/angrydd</td>\n",
       "      <td>deb</td>\n",
       "      <td>2008-10-19 12:19:40</td>\n",
       "      <td>2019-08-09 18:47:59</td>\n",
       "      <td>4</td>\n",
       "      <td>5</td>\n",
       "      <td>0</td>\n",
       "    </tr>\n",
       "    <tr>\n",
       "      <th>2</th>\n",
       "      <td>deb://Debian/packages/cedar-backup3</td>\n",
       "      <td>deb</td>\n",
       "      <td>2016-09-05 18:27:20</td>\n",
       "      <td>2019-08-25 14:20:15</td>\n",
       "      <td>1</td>\n",
       "      <td>7</td>\n",
       "      <td>1</td>\n",
       "    </tr>\n",
       "    <tr>\n",
       "      <th>3</th>\n",
       "      <td>deb://Debian/packages/expeyes</td>\n",
       "      <td>deb</td>\n",
       "      <td>2012-04-18 17:22:57</td>\n",
       "      <td>2019-11-26 19:11:26</td>\n",
       "      <td>2</td>\n",
       "      <td>22</td>\n",
       "      <td>1</td>\n",
       "    </tr>\n",
       "    <tr>\n",
       "      <th>4</th>\n",
       "      <td>deb://Debian/packages/fonttools</td>\n",
       "      <td>deb</td>\n",
       "      <td>2009-11-14 14:58:53</td>\n",
       "      <td>2019-12-22 22:26:30</td>\n",
       "      <td>7</td>\n",
       "      <td>11</td>\n",
       "      <td>1</td>\n",
       "    </tr>\n",
       "  </tbody>\n",
       "</table>\n",
       "</div>"
      ],
      "text/plain": [
       "                                origin type           start_date  \\\n",
       "0     deb://Debian/packages/accerciser  deb  2012-04-18 17:06:21   \n",
       "1        deb://Debian/packages/angrydd  deb  2008-10-19 12:19:40   \n",
       "2  deb://Debian/packages/cedar-backup3  deb  2016-09-05 18:27:20   \n",
       "3        deb://Debian/packages/expeyes  deb  2012-04-18 17:22:57   \n",
       "4      deb://Debian/packages/fonttools  deb  2009-11-14 14:58:53   \n",
       "\n",
       "              end_date  author_count  rev_count  censored  \n",
       "0  2019-10-11 00:10:47             4          8         1  \n",
       "1  2019-08-09 18:47:59             4          5         0  \n",
       "2  2019-08-25 14:20:15             1          7         1  \n",
       "3  2019-11-26 19:11:26             2         22         1  \n",
       "4  2019-12-22 22:26:30             7         11         1  "
      ]
     },
     "execution_count": 29,
     "metadata": {},
     "output_type": "execute_result"
    }
   ],
   "source": [
    "data.head()"
   ]
  },
  {
   "cell_type": "code",
   "execution_count": 30,
   "metadata": {},
   "outputs": [],
   "source": [
    "## Censoring the data\n",
    "# censored_date = pd.to_datetime('2019-12-31').tz_localize('UTC')\n",
    "# data['end_date']= pd.to_datetime(data['end_date'], utc=True)\n",
    "# data['start_date']= pd.to_datetime(data['start_date'], utc=True)\n",
    "# data['censored'] = (data['end_date'] > censored_date)#.astype(int)\n",
    "# data.censored.value_counts()"
   ]
  },
  {
   "cell_type": "code",
   "execution_count": 31,
   "metadata": {},
   "outputs": [
    {
     "data": {
      "text/plain": [
       "censored\n",
       "1    1450\n",
       "0     661\n",
       "Name: count, dtype: int64"
      ]
     },
     "execution_count": 31,
     "metadata": {},
     "output_type": "execute_result"
    }
   ],
   "source": [
    "data.censored.value_counts()"
   ]
  },
  {
   "cell_type": "markdown",
   "metadata": {},
   "source": [
    "## Calculate the Duration in Days and Months for each Project"
   ]
  },
  {
   "cell_type": "code",
   "execution_count": 32,
   "metadata": {},
   "outputs": [],
   "source": [
    "data['end_date']= pd.to_datetime(data['end_date'], utc=True)\n",
    "data['start_date']= pd.to_datetime(data['start_date'], utc=True)"
   ]
  },
  {
   "cell_type": "code",
   "execution_count": 33,
   "metadata": {},
   "outputs": [],
   "source": [
    "data['duration_days'] = (data['end_date'] - data['start_date']).dt.days + 1"
   ]
  },
  {
   "cell_type": "code",
   "execution_count": 34,
   "metadata": {},
   "outputs": [],
   "source": [
    "from dateutil.relativedelta import relativedelta\n",
    "\n",
    "# Assuming data['start_date'] and data['end_date'] are datetime objects\n",
    "data['duration_months'] = data.apply(lambda row: relativedelta(row['end_date'], row['start_date']).years * 12 + relativedelta(row['end_date'], row['start_date']).months + 1, axis=1)"
   ]
  },
  {
   "cell_type": "code",
   "execution_count": 35,
   "metadata": {},
   "outputs": [
    {
     "data": {
      "text/html": [
       "<div>\n",
       "<style scoped>\n",
       "    .dataframe tbody tr th:only-of-type {\n",
       "        vertical-align: middle;\n",
       "    }\n",
       "\n",
       "    .dataframe tbody tr th {\n",
       "        vertical-align: top;\n",
       "    }\n",
       "\n",
       "    .dataframe thead th {\n",
       "        text-align: right;\n",
       "    }\n",
       "</style>\n",
       "<table border=\"1\" class=\"dataframe\">\n",
       "  <thead>\n",
       "    <tr style=\"text-align: right;\">\n",
       "      <th></th>\n",
       "      <th>origin</th>\n",
       "      <th>type</th>\n",
       "      <th>start_date</th>\n",
       "      <th>end_date</th>\n",
       "      <th>author_count</th>\n",
       "      <th>rev_count</th>\n",
       "      <th>censored</th>\n",
       "      <th>duration_days</th>\n",
       "      <th>duration_months</th>\n",
       "    </tr>\n",
       "  </thead>\n",
       "  <tbody>\n",
       "    <tr>\n",
       "      <th>0</th>\n",
       "      <td>deb://Debian/packages/accerciser</td>\n",
       "      <td>deb</td>\n",
       "      <td>2012-04-18 17:06:21+00:00</td>\n",
       "      <td>2019-10-11 00:10:47+00:00</td>\n",
       "      <td>4</td>\n",
       "      <td>8</td>\n",
       "      <td>1</td>\n",
       "      <td>2732</td>\n",
       "      <td>90</td>\n",
       "    </tr>\n",
       "    <tr>\n",
       "      <th>1</th>\n",
       "      <td>deb://Debian/packages/angrydd</td>\n",
       "      <td>deb</td>\n",
       "      <td>2008-10-19 12:19:40+00:00</td>\n",
       "      <td>2019-08-09 18:47:59+00:00</td>\n",
       "      <td>4</td>\n",
       "      <td>5</td>\n",
       "      <td>0</td>\n",
       "      <td>3947</td>\n",
       "      <td>130</td>\n",
       "    </tr>\n",
       "    <tr>\n",
       "      <th>2</th>\n",
       "      <td>deb://Debian/packages/cedar-backup3</td>\n",
       "      <td>deb</td>\n",
       "      <td>2016-09-05 18:27:20+00:00</td>\n",
       "      <td>2019-08-25 14:20:15+00:00</td>\n",
       "      <td>1</td>\n",
       "      <td>7</td>\n",
       "      <td>1</td>\n",
       "      <td>1084</td>\n",
       "      <td>36</td>\n",
       "    </tr>\n",
       "    <tr>\n",
       "      <th>3</th>\n",
       "      <td>deb://Debian/packages/expeyes</td>\n",
       "      <td>deb</td>\n",
       "      <td>2012-04-18 17:22:57+00:00</td>\n",
       "      <td>2019-11-26 19:11:26+00:00</td>\n",
       "      <td>2</td>\n",
       "      <td>22</td>\n",
       "      <td>1</td>\n",
       "      <td>2779</td>\n",
       "      <td>92</td>\n",
       "    </tr>\n",
       "    <tr>\n",
       "      <th>4</th>\n",
       "      <td>deb://Debian/packages/fonttools</td>\n",
       "      <td>deb</td>\n",
       "      <td>2009-11-14 14:58:53+00:00</td>\n",
       "      <td>2019-12-22 22:26:30+00:00</td>\n",
       "      <td>7</td>\n",
       "      <td>11</td>\n",
       "      <td>1</td>\n",
       "      <td>3691</td>\n",
       "      <td>122</td>\n",
       "    </tr>\n",
       "  </tbody>\n",
       "</table>\n",
       "</div>"
      ],
      "text/plain": [
       "                                origin type                start_date  \\\n",
       "0     deb://Debian/packages/accerciser  deb 2012-04-18 17:06:21+00:00   \n",
       "1        deb://Debian/packages/angrydd  deb 2008-10-19 12:19:40+00:00   \n",
       "2  deb://Debian/packages/cedar-backup3  deb 2016-09-05 18:27:20+00:00   \n",
       "3        deb://Debian/packages/expeyes  deb 2012-04-18 17:22:57+00:00   \n",
       "4      deb://Debian/packages/fonttools  deb 2009-11-14 14:58:53+00:00   \n",
       "\n",
       "                   end_date  author_count  rev_count  censored  duration_days  \\\n",
       "0 2019-10-11 00:10:47+00:00             4          8         1           2732   \n",
       "1 2019-08-09 18:47:59+00:00             4          5         0           3947   \n",
       "2 2019-08-25 14:20:15+00:00             1          7         1           1084   \n",
       "3 2019-11-26 19:11:26+00:00             2         22         1           2779   \n",
       "4 2019-12-22 22:26:30+00:00             7         11         1           3691   \n",
       "\n",
       "   duration_months  \n",
       "0               90  \n",
       "1              130  \n",
       "2               36  \n",
       "3               92  \n",
       "4              122  "
      ]
     },
     "execution_count": 35,
     "metadata": {},
     "output_type": "execute_result"
    }
   ],
   "source": [
    "data.head()"
   ]
  },
  {
   "cell_type": "code",
   "execution_count": 36,
   "metadata": {},
   "outputs": [
    {
     "data": {
      "text/plain": [
       "4315279"
      ]
     },
     "execution_count": 36,
     "metadata": {},
     "output_type": "execute_result"
    }
   ],
   "source": [
    "data.rev_count.sum()\n",
    "\n"
   ]
  },
  {
   "cell_type": "markdown",
   "metadata": {},
   "source": [
    "## Create Revision Frequency Columns"
   ]
  },
  {
   "cell_type": "code",
   "execution_count": 37,
   "metadata": {},
   "outputs": [
    {
     "data": {
      "text/plain": [
       "high_rev_freq\n",
       "False    1887\n",
       "True      224\n",
       "Name: count, dtype: int64"
      ]
     },
     "execution_count": 37,
     "metadata": {},
     "output_type": "execute_result"
    }
   ],
   "source": [
    "# Create Revision Frequency\n",
    "data['rev_freq'] = data['rev_count'] / data['duration_days']\n",
    "# Create column for high frequency vs low frequency\n",
    "data['high_rev_freq'] = data['rev_freq'] > 1\n",
    "\n",
    "data['high_rev_freq'].value_counts()"
   ]
  },
  {
   "cell_type": "code",
   "execution_count": null,
   "metadata": {},
   "outputs": [],
   "source": []
  },
  {
   "cell_type": "markdown",
   "metadata": {},
   "source": [
    "## Determine Whether Projects are Hosted on Multiple Repositories"
   ]
  },
  {
   "cell_type": "markdown",
   "metadata": {},
   "source": []
  },
  {
   "cell_type": "code",
   "execution_count": 38,
   "metadata": {},
   "outputs": [],
   "source": [
    "## Extract Project Names from URLs\n",
    "# This makes assumptions about url structure and project naming\n",
    "projects = []\n",
    "for elem in data['origin'].str.findall(\"(.+)/(.+)(/*$)\"):\n",
    "    projects.append(elem[0][1].replace(\"/\",\"\"))\n",
    "data['project'] = projects\n"
   ]
  },
  {
   "cell_type": "code",
   "execution_count": 39,
   "metadata": {},
   "outputs": [
    {
     "data": {
      "text/plain": [
       "['Python-100-Days', 'dataset', 'tqdm', 'tutorials']"
      ]
     },
     "execution_count": 39,
     "metadata": {},
     "output_type": "execute_result"
    }
   ],
   "source": [
    "# These are mistakes, the project and host_type should uniquely identify the repos, but git projects\n",
    "# can have duplicated names, so these projects are not actually hosted on multiple repos\n",
    "temp = data.groupby(['project', 'type']).count()['censored']\n",
    "non_multi_repo_projects = [x for (x,y) in temp[temp > 1].index]\n",
    "non_multi_repo_projects"
   ]
  },
  {
   "cell_type": "code",
   "execution_count": 40,
   "metadata": {},
   "outputs": [
    {
     "data": {
      "text/plain": [
       "multi_repo\n",
       "False    1958\n",
       "True      153\n",
       "Name: count, dtype: int64"
      ]
     },
     "execution_count": 40,
     "metadata": {},
     "output_type": "execute_result"
    }
   ],
   "source": [
    "temp = data.groupby(['project']).count()['censored']\n",
    "temp[temp == 1] = 0\n",
    "temp[temp > 1] = 1\n",
    "# fix errors\n",
    "temp[non_multi_repo_projects] = 0\n",
    "\n",
    "multi_repo = []\n",
    "for i, row in data.iterrows():\n",
    "    multi_repo.append(temp[row['project']])\n",
    "\n",
    "data['multi_repo'] = multi_repo\n",
    "data['multi_repo'] = data['multi_repo'].astype(bool)\n",
    "data['multi_repo'].value_counts()"
   ]
  },
  {
   "cell_type": "markdown",
   "metadata": {},
   "source": [
    "## High Author Count"
   ]
  },
  {
   "cell_type": "code",
   "execution_count": 41,
   "metadata": {},
   "outputs": [
    {
     "data": {
      "text/plain": [
       "high_author_count\n",
       "False    1717\n",
       "True      394\n",
       "Name: count, dtype: int64"
      ]
     },
     "execution_count": 41,
     "metadata": {},
     "output_type": "execute_result"
    }
   ],
   "source": [
    "data['high_author_count'] = data['author_count'] > 20\n",
    "data['high_author_count'].value_counts()"
   ]
  },
  {
   "cell_type": "markdown",
   "metadata": {},
   "source": [
    "## Save to CSVs"
   ]
  },
  {
   "cell_type": "code",
   "execution_count": 42,
   "metadata": {},
   "outputs": [],
   "source": [
    "data.to_csv(\"data/all_fields.csv\", index=False)"
   ]
  },
  {
   "cell_type": "code",
   "execution_count": 43,
   "metadata": {},
   "outputs": [],
   "source": [
    "refined = data.drop(['origin', 'author_count', 'start_date', 'end_date', 'rev_count', 'project', 'duration_days', 'rev_freq'], axis='columns')\n",
    "refined.to_csv('data/necessary_fields.csv', index=False)"
   ]
  },
  {
   "cell_type": "markdown",
   "metadata": {},
   "source": [
    "# Create Figure 1 (Ordered Timeline of Projects)"
   ]
  },
  {
   "cell_type": "code",
   "execution_count": 44,
   "metadata": {},
   "outputs": [],
   "source": [
    "from dateutil.relativedelta import relativedelta\n",
    "import pandas as pd\n",
    "\n",
    "graph_data = data.copy()\n",
    "# Assuming 'data' is your DataFrame containing project information\n",
    "beginning_month = pd.to_datetime('2005-01-01 00:00:00-07:00', utc=True)\n",
    "\n",
    "# Calculate start month\n",
    "graph_data['start_month'] = graph_data.apply(lambda row: (row['start_date'].year - beginning_month.year) * 12 + relativedelta(row['start_date'], beginning_month).months, axis=1)\n",
    "\n",
    "# Calculate end month\n",
    "graph_data['end_month'] = graph_data.apply(lambda row: (row['end_date'].year - beginning_month.year) * 12 + relativedelta(row['end_date'], beginning_month).months, axis=1)\n",
    "\n",
    "# Sort the DataFrame by duration_months\n",
    "graph_data = graph_data.sort_values(by='duration_months')\n"
   ]
  },
  {
   "cell_type": "code",
   "execution_count": 45,
   "metadata": {},
   "outputs": [
    {
     "data": {
      "text/html": [
       "<div>\n",
       "<style scoped>\n",
       "    .dataframe tbody tr th:only-of-type {\n",
       "        vertical-align: middle;\n",
       "    }\n",
       "\n",
       "    .dataframe tbody tr th {\n",
       "        vertical-align: top;\n",
       "    }\n",
       "\n",
       "    .dataframe thead th {\n",
       "        text-align: right;\n",
       "    }\n",
       "</style>\n",
       "<table border=\"1\" class=\"dataframe\">\n",
       "  <thead>\n",
       "    <tr style=\"text-align: right;\">\n",
       "      <th></th>\n",
       "      <th>origin</th>\n",
       "      <th>type</th>\n",
       "      <th>start_date</th>\n",
       "      <th>end_date</th>\n",
       "      <th>author_count</th>\n",
       "      <th>rev_count</th>\n",
       "      <th>censored</th>\n",
       "      <th>duration_days</th>\n",
       "      <th>duration_months</th>\n",
       "      <th>rev_freq</th>\n",
       "      <th>high_rev_freq</th>\n",
       "      <th>project</th>\n",
       "      <th>multi_repo</th>\n",
       "      <th>high_author_count</th>\n",
       "      <th>start_month</th>\n",
       "      <th>end_month</th>\n",
       "    </tr>\n",
       "  </thead>\n",
       "  <tbody>\n",
       "    <tr>\n",
       "      <th>765</th>\n",
       "      <td>https://pypi.org/project/sarif-om/</td>\n",
       "      <td>pypi</td>\n",
       "      <td>2019-10-01 20:53:03+00:00</td>\n",
       "      <td>2019-10-05 20:11:23+00:00</td>\n",
       "      <td>1</td>\n",
       "      <td>7</td>\n",
       "      <td>0</td>\n",
       "      <td>4</td>\n",
       "      <td>1</td>\n",
       "      <td>1.750000</td>\n",
       "      <td>True</td>\n",
       "      <td>sarif-om</td>\n",
       "      <td>False</td>\n",
       "      <td>False</td>\n",
       "      <td>177</td>\n",
       "      <td>177</td>\n",
       "    </tr>\n",
       "    <tr>\n",
       "      <th>108</th>\n",
       "      <td>https://pypi.org/project/jschema-to-python/</td>\n",
       "      <td>pypi</td>\n",
       "      <td>2019-10-01 20:42:32+00:00</td>\n",
       "      <td>2019-10-05 20:02:39+00:00</td>\n",
       "      <td>1</td>\n",
       "      <td>6</td>\n",
       "      <td>0</td>\n",
       "      <td>4</td>\n",
       "      <td>1</td>\n",
       "      <td>1.500000</td>\n",
       "      <td>True</td>\n",
       "      <td>jschema-to-python</td>\n",
       "      <td>False</td>\n",
       "      <td>False</td>\n",
       "      <td>177</td>\n",
       "      <td>177</td>\n",
       "    </tr>\n",
       "    <tr>\n",
       "      <th>1893</th>\n",
       "      <td>deb://Debian/packages/python-pysnmp4-apps</td>\n",
       "      <td>deb</td>\n",
       "      <td>2012-05-21 11:19:23+00:00</td>\n",
       "      <td>2012-05-21 11:19:23+00:00</td>\n",
       "      <td>1</td>\n",
       "      <td>1</td>\n",
       "      <td>1</td>\n",
       "      <td>1</td>\n",
       "      <td>1</td>\n",
       "      <td>1.000000</td>\n",
       "      <td>False</td>\n",
       "      <td>python-pysnmp4-apps</td>\n",
       "      <td>False</td>\n",
       "      <td>False</td>\n",
       "      <td>88</td>\n",
       "      <td>88</td>\n",
       "    </tr>\n",
       "    <tr>\n",
       "      <th>105</th>\n",
       "      <td>https://pypi.org/project/google-cloud-secret-m...</td>\n",
       "      <td>pypi</td>\n",
       "      <td>2019-12-20 15:05:01+00:00</td>\n",
       "      <td>2019-12-20 15:05:01+00:00</td>\n",
       "      <td>1</td>\n",
       "      <td>1</td>\n",
       "      <td>1</td>\n",
       "      <td>1</td>\n",
       "      <td>1</td>\n",
       "      <td>1.000000</td>\n",
       "      <td>False</td>\n",
       "      <td>google-cloud-secret-manager</td>\n",
       "      <td>False</td>\n",
       "      <td>False</td>\n",
       "      <td>179</td>\n",
       "      <td>179</td>\n",
       "    </tr>\n",
       "    <tr>\n",
       "      <th>416</th>\n",
       "      <td>https://github.com/WZMIAOMIAO/deep-learning-fo...</td>\n",
       "      <td>git</td>\n",
       "      <td>2019-12-10 06:44:14+00:00</td>\n",
       "      <td>2019-12-23 09:38:01+00:00</td>\n",
       "      <td>2</td>\n",
       "      <td>17</td>\n",
       "      <td>1</td>\n",
       "      <td>14</td>\n",
       "      <td>1</td>\n",
       "      <td>1.214286</td>\n",
       "      <td>True</td>\n",
       "      <td>deep-learning-for-image-processing</td>\n",
       "      <td>False</td>\n",
       "      <td>False</td>\n",
       "      <td>179</td>\n",
       "      <td>179</td>\n",
       "    </tr>\n",
       "  </tbody>\n",
       "</table>\n",
       "</div>"
      ],
      "text/plain": [
       "                                                 origin  type  \\\n",
       "765                  https://pypi.org/project/sarif-om/  pypi   \n",
       "108         https://pypi.org/project/jschema-to-python/  pypi   \n",
       "1893          deb://Debian/packages/python-pysnmp4-apps   deb   \n",
       "105   https://pypi.org/project/google-cloud-secret-m...  pypi   \n",
       "416   https://github.com/WZMIAOMIAO/deep-learning-fo...   git   \n",
       "\n",
       "                    start_date                  end_date  author_count  \\\n",
       "765  2019-10-01 20:53:03+00:00 2019-10-05 20:11:23+00:00             1   \n",
       "108  2019-10-01 20:42:32+00:00 2019-10-05 20:02:39+00:00             1   \n",
       "1893 2012-05-21 11:19:23+00:00 2012-05-21 11:19:23+00:00             1   \n",
       "105  2019-12-20 15:05:01+00:00 2019-12-20 15:05:01+00:00             1   \n",
       "416  2019-12-10 06:44:14+00:00 2019-12-23 09:38:01+00:00             2   \n",
       "\n",
       "      rev_count  censored  duration_days  duration_months  rev_freq  \\\n",
       "765           7         0              4                1  1.750000   \n",
       "108           6         0              4                1  1.500000   \n",
       "1893          1         1              1                1  1.000000   \n",
       "105           1         1              1                1  1.000000   \n",
       "416          17         1             14                1  1.214286   \n",
       "\n",
       "      high_rev_freq                             project  multi_repo  \\\n",
       "765            True                            sarif-om       False   \n",
       "108            True                   jschema-to-python       False   \n",
       "1893          False                 python-pysnmp4-apps       False   \n",
       "105           False         google-cloud-secret-manager       False   \n",
       "416            True  deep-learning-for-image-processing       False   \n",
       "\n",
       "      high_author_count  start_month  end_month  \n",
       "765               False          177        177  \n",
       "108               False          177        177  \n",
       "1893              False           88         88  \n",
       "105               False          179        179  \n",
       "416               False          179        179  "
      ]
     },
     "execution_count": 45,
     "metadata": {},
     "output_type": "execute_result"
    }
   ],
   "source": [
    "graph_data.head()"
   ]
  },
  {
   "cell_type": "code",
   "execution_count": null,
   "metadata": {},
   "outputs": [],
   "source": []
  },
  {
   "cell_type": "code",
   "execution_count": 48,
   "metadata": {},
   "outputs": [
    {
     "data": {
      "image/png": "[encoded data removed]",
      "text/plain": [
       "<Figure size 1200x800 with 1 Axes>"
      ]
     },
     "metadata": {},
     "output_type": "display_data"
    }
   ],
   "source": [
    "plt.rcParams[\"figure.figsize\"]=[12,8]\n",
    "plt.hlines(y=np.arange(graph_data.shape[0]), xmin=graph_data['start_month'], xmax=graph_data['end_month'], colors='black', linewidth=0.5)\n",
    "plt.tick_params(left=False, labelleft=False)\n",
    "plt.ylabel('Projects', fontsize=14)\n",
    "plt.xlabel('Month', fontsize=14)\n",
    "# plt.xlim((0, int((((ending_month - beginning_month)/np.timedelta64(1,'D'))/28))))\n",
    "plt.ylim((0, graph_data.shape[0]))\n",
    "plt.savefig('img/project_duration.pdf',bbox_inches='tight', dpi=150)"
   ]
  },
  {
   "cell_type": "code",
   "execution_count": null,
   "metadata": {},
   "outputs": [],
   "source": []
  }
 ],
 "metadata": {
  "interpreter": {
   "hash": "e36037f63a187e1cbdbbdbba65cb8e02f1206170ccfbe96ceb37b0f563e0b6ff"
  },
  "kernelspec": {
   "display_name": "Python 3.7.10 64-bit ('base': conda)",
   "name": "python3"
  },
  "language_info": {
   "codemirror_mode": {
    "name": "ipython",
    "version": 3
   },
   "file_extension": ".py",
   "mimetype": "text/x-python",
   "name": "python",
   "nbconvert_exporter": "python",
   "pygments_lexer": "ipython3",
   "version": "3.10.12"
  },
  "orig_nbformat": 4
 },
 "nbformat": 4,
 "nbformat_minor": 2
}
